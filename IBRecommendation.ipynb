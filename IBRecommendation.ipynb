{
 "cells": [
  {
   "cell_type": "markdown",
   "metadata": {
    "deletable": true,
    "editable": true
   },
   "source": [
    "# Item Based Recommendation "
   ]
  },
  {
   "cell_type": "markdown",
   "metadata": {
    "deletable": true,
    "editable": true
   },
   "source": [
    "Recommendation based on track similarity. A track is similar to another one if it is listened by the same user."
   ]
  },
  {
   "cell_type": "code",
   "execution_count": 2,
   "metadata": {
    "collapsed": false,
    "deletable": true,
    "editable": true
   },
   "outputs": [],
   "source": [
    "import pandas as pd\n",
    "import numpy as np\n",
    "import sys\n",
    "from scipy.sparse import *\n",
    "from scipy import *\n",
    "import pickle"
   ]
  },
  {
   "cell_type": "code",
   "execution_count": 3,
   "metadata": {
    "collapsed": false,
    "deletable": true,
    "editable": true
   },
   "outputs": [
    {
     "data": {
      "text/html": [
       "<div>\n",
       "<table border=\"1\" class=\"dataframe\">\n",
       "  <thead>\n",
       "    <tr style=\"text-align: right;\">\n",
       "      <th></th>\n",
       "      <th>user</th>\n",
       "      <th>track</th>\n",
       "    </tr>\n",
       "  </thead>\n",
       "  <tbody>\n",
       "    <tr>\n",
       "      <th>0</th>\n",
       "      <td>000c556aa021426138c47076d53dfbec</td>\n",
       "      <td>spotify:track:000UQuSa2QcsWFK0tGTBDM</td>\n",
       "    </tr>\n",
       "    <tr>\n",
       "      <th>1</th>\n",
       "      <td>000c556aa021426138c47076d53dfbec</td>\n",
       "      <td>spotify:track:001faoWrA2TK6dw9vHp9p6</td>\n",
       "    </tr>\n",
       "    <tr>\n",
       "      <th>2</th>\n",
       "      <td>000c556aa021426138c47076d53dfbec</td>\n",
       "      <td>spotify:track:010jenmHogRDArWKod52XR</td>\n",
       "    </tr>\n",
       "    <tr>\n",
       "      <th>3</th>\n",
       "      <td>000c556aa021426138c47076d53dfbec</td>\n",
       "      <td>spotify:track:01gijlGB36OqjXJ0bUkE99</td>\n",
       "    </tr>\n",
       "    <tr>\n",
       "      <th>4</th>\n",
       "      <td>000c556aa021426138c47076d53dfbec</td>\n",
       "      <td>spotify:track:01z7U4QxORx59DIfSwImo2</td>\n",
       "    </tr>\n",
       "  </tbody>\n",
       "</table>\n",
       "</div>"
      ],
      "text/plain": [
       "                               user                                 track\n",
       "0  000c556aa021426138c47076d53dfbec  spotify:track:000UQuSa2QcsWFK0tGTBDM\n",
       "1  000c556aa021426138c47076d53dfbec  spotify:track:001faoWrA2TK6dw9vHp9p6\n",
       "2  000c556aa021426138c47076d53dfbec  spotify:track:010jenmHogRDArWKod52XR\n",
       "3  000c556aa021426138c47076d53dfbec  spotify:track:01gijlGB36OqjXJ0bUkE99\n",
       "4  000c556aa021426138c47076d53dfbec  spotify:track:01z7U4QxORx59DIfSwImo2"
      ]
     },
     "execution_count": 3,
     "metadata": {},
     "output_type": "execute_result"
    }
   ],
   "source": [
    "# read test set\n",
    "training = pd.read_csv(\"training.csv\")[['user', 'track']]\n",
    "training.head()"
   ]
  },
  {
   "cell_type": "code",
   "execution_count": null,
   "metadata": {
    "collapsed": false,
    "deletable": true,
    "editable": true
   },
   "outputs": [],
   "source": []
  },
  {
   "cell_type": "code",
   "execution_count": 4,
   "metadata": {
    "collapsed": false,
    "deletable": true,
    "editable": true
   },
   "outputs": [],
   "source": [
    "# read test set\n",
    "tracks = training['track'].unique()\n",
    "size = len(tracks)\n",
    "#items = np.zeros((size,size))\n",
    "items_sparse = csr_matrix( (size,size), dtype=int16 )\n",
    "track_id_dict = {}\n",
    "id_track_dict = {}\n",
    "for i,track in enumerate(tracks):\n",
    "    track_id_dict[track] = i\n",
    "    id_track_dict[i] = track\n",
    "    \n",
    "with open('track_to_id.pickle', 'wb') as handle:\n",
    "    pickle.dump(track_id_dict, handle, protocol=pickle.HIGHEST_PROTOCOL)    \n",
    "with open('id_to_track.pickle', 'wb') as handle:\n",
    "    pickle.dump(id_track_dict, handle, protocol=pickle.HIGHEST_PROTOCOL)        "
   ]
  },
  {
   "cell_type": "code",
   "execution_count": null,
   "metadata": {
    "collapsed": false,
    "deletable": true,
    "editable": true
   },
   "outputs": [],
   "source": []
  },
  {
   "cell_type": "code",
   "execution_count": 5,
   "metadata": {
    "collapsed": false,
    "deletable": true,
    "editable": true
   },
   "outputs": [],
   "source": [
    "user_dict = {}\n",
    "groups = training.groupby('user')\n",
    "for i, group in groups:\n",
    "    user_id = group['user'].iloc[0]\n",
    "    track_ids = set(group['track'])\n",
    "    user_dict[user_id] = track_ids    "
   ]
  },
  {
   "cell_type": "code",
   "execution_count": 8,
   "metadata": {
    "collapsed": false,
    "deletable": true,
    "editable": true
   },
   "outputs": [
    {
     "name": "stdout",
     "output_type": "stream",
     "text": [
      "User: 500 --- 1062 tracks  \r"
     ]
    }
   ],
   "source": [
    "count = 0\n",
    "for tracks in user_dict.values():\n",
    "    track_ids = [track_id_dict[track] for track in tracks]\n",
    "    sys.stdout.write(\"User: \"+str(count)+\" --- \"+str(len(track_ids))+\" tracks \\r\")\n",
    "    sys.stdout.flush()\n",
    "    count += 1\n",
    "    if len(track_ids) < 300 and len(track_ids) > 50:\n",
    "        for track_id in track_ids:\n",
    "            #print(track_id_dict[track_id])\n",
    "            row = array([track_id for i in track_ids])\n",
    "            col = array(track_ids)\n",
    "            data = array([1 for i in track_ids])\n",
    "            acc = csr_matrix( (data,(row,col)), shape=(size,size), dtype=int16 )\n",
    "            items_sparse += acc"
   ]
  },
  {
   "cell_type": "code",
   "execution_count": 27,
   "metadata": {
    "collapsed": false,
    "deletable": true,
    "editable": true
   },
   "outputs": [
    {
     "data": {
      "text/plain": [
       "54050"
      ]
     },
     "execution_count": 27,
     "metadata": {},
     "output_type": "execute_result"
    }
   ],
   "source": [
    "#items_sparse.size\n",
    "#save_npz('items_sparse.npz', items_sparse)\n",
    "#items_sparse.todense()\n",
    "#from tempfile import TemporaryFile\n",
    "#outfile = TemporaryFile()\n",
    "#np.save(outfile, items)\n",
    "len(find(items_sparse)[2])\n",
    "\n",
    "#from scipy import sparse\n",
    "#sparse = sparse.csr_matrix(items)"
   ]
  },
  {
   "cell_type": "markdown",
   "metadata": {
    "collapsed": false,
    "deletable": true,
    "editable": true
   },
   "source": [
    "## Suche"
   ]
  },
  {
   "cell_type": "code",
   "execution_count": 28,
   "metadata": {
    "collapsed": false,
    "deletable": true,
    "editable": true
   },
   "outputs": [],
   "source": [
    "track_list = ['spotify:track:3eBLhHpqmsTlSoSw5gRxhB', 'spotify:track:01gijlGB36OqjXJ0bUkE99']\n",
    "id_list = [track_id_dict[track] for track in track_list]"
   ]
  },
  {
   "cell_type": "code",
   "execution_count": 29,
   "metadata": {
    "collapsed": false,
    "deletable": true,
    "editable": true
   },
   "outputs": [
    {
     "name": "stdout",
     "output_type": "stream",
     "text": [
      "10\n",
      "0\n",
      "----------\n",
      "10\n"
     ]
    }
   ],
   "source": [
    "result_sparse = csr_matrix( (1,size), dtype=int8 )\n",
    "for track_id in id_list:\n",
    "    row_sparse = items_sparse.getrow(track_id)\n",
    "    print(row_sparse.size)\n",
    "    result_sparse += row_sparse\n",
    "\n",
    "print(\"----------\")\n",
    "print(result_sparse.size)\n",
    "#result = [(index, item) for index, item in enumerate(result)]\n",
    "#result.sort(key=lambda item: item[1], reverse=True)\n",
    "#result = result[:10]\n",
    "#result = [(track_id_dict[i[0]]) for i in result]\n",
    "#result"
   ]
  },
  {
   "cell_type": "code",
   "execution_count": 35,
   "metadata": {
    "collapsed": false,
    "deletable": true,
    "editable": true
   },
   "outputs": [
    {
     "data": {
      "text/plain": [
       "['spotify:track:0qpTmi5o3LOX3PqMEd6s2F',\n",
       " 'spotify:track:0v945WRZhamHsBBqbpW4LH',\n",
       " 'spotify:track:46BtkjwDx6o6qr5fiSaO2D',\n",
       " 'spotify:track:4APxFzhKBfGczlAn4jQJiM',\n",
       " 'spotify:track:4OY3D0dh8vYO27gnquE6V1']"
      ]
     },
     "execution_count": 35,
     "metadata": {},
     "output_type": "execute_result"
    }
   ],
   "source": [
    "indices = result_sparse.nonzero()[1].tolist()\n",
    "values =  result_sparse.data.tolist()\n",
    "zipped = list(zip(indices, values))\n",
    "filtered = list(filter(lambda item: item[0] not in id_list, zipped))\n",
    "filtered.sort(key=lambda item: item[1], reverse=True)\n",
    "shortened = filtered[:5]\n",
    "result = [id_track_dict[i[0]] for i in shortened]\n",
    "result"
   ]
  },
  {
   "cell_type": "code",
   "execution_count": 68,
   "metadata": {
    "collapsed": false,
    "deletable": true,
    "editable": true
   },
   "outputs": [],
   "source": [
    "#my_dict = {'a':['x', 'y'], 'b':['z', 'y']}"
   ]
  },
  {
   "cell_type": "code",
   "execution_count": 69,
   "metadata": {
    "collapsed": true,
    "deletable": true,
    "editable": true
   },
   "outputs": [],
   "source": [
    "#df = pd.DataFrame(columns=['track', 'user'])"
   ]
  },
  {
   "cell_type": "code",
   "execution_count": 66,
   "metadata": {
    "collapsed": false,
    "deletable": true,
    "editable": true
   },
   "outputs": [],
   "source": [
    "#for key, tracks in my_dict.items():\n",
    "#    size = len(tracks)\n",
    "#    new = pd.DataFrame({'user': [key]*size,'track': tracks})\n",
    "#    df = df.append(new)"
   ]
  },
  {
   "cell_type": "code",
   "execution_count": null,
   "metadata": {
    "collapsed": true,
    "deletable": true,
    "editable": true
   },
   "outputs": [],
   "source": []
  }
 ],
 "metadata": {
  "kernelspec": {
   "display_name": "Python 3",
   "language": "python",
   "name": "python3"
  },
  "language_info": {
   "codemirror_mode": {
    "name": "ipython",
    "version": 3
   },
   "file_extension": ".py",
   "mimetype": "text/x-python",
   "name": "python",
   "nbconvert_exporter": "python",
   "pygments_lexer": "ipython3",
   "version": "3.6.0"
  }
 },
 "nbformat": 4,
 "nbformat_minor": 2
}
