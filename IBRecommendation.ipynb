{
 "cells": [
  {
   "cell_type": "markdown",
   "metadata": {
    "deletable": true,
    "editable": true
   },
   "source": [
    "# Item Based Recommendation "
   ]
  },
  {
   "cell_type": "markdown",
   "metadata": {
    "deletable": true,
    "editable": true
   },
   "source": [
    "Recommendation based on track similarity. A track is similar to another one if it is listened by the same user."
   ]
  },
  {
   "cell_type": "code",
   "execution_count": 1,
   "metadata": {
    "collapsed": false,
    "deletable": true,
    "editable": true
   },
   "outputs": [],
   "source": [
    "import pandas as pd\n",
    "import numpy as np\n",
    "import sys"
   ]
  },
  {
   "cell_type": "code",
   "execution_count": 2,
   "metadata": {
    "collapsed": false,
    "deletable": true,
    "editable": true
   },
   "outputs": [
    {
     "data": {
      "text/html": [
       "<div>\n",
       "<table border=\"1\" class=\"dataframe\">\n",
       "  <thead>\n",
       "    <tr style=\"text-align: right;\">\n",
       "      <th></th>\n",
       "      <th>user</th>\n",
       "      <th>track</th>\n",
       "    </tr>\n",
       "  </thead>\n",
       "  <tbody>\n",
       "    <tr>\n",
       "      <th>0</th>\n",
       "      <td>000c556aa021426138c47076d53dfbec</td>\n",
       "      <td>spotify:track:000UQuSa2QcsWFK0tGTBDM</td>\n",
       "    </tr>\n",
       "    <tr>\n",
       "      <th>1</th>\n",
       "      <td>000c556aa021426138c47076d53dfbec</td>\n",
       "      <td>spotify:track:001faoWrA2TK6dw9vHp9p6</td>\n",
       "    </tr>\n",
       "    <tr>\n",
       "      <th>2</th>\n",
       "      <td>000c556aa021426138c47076d53dfbec</td>\n",
       "      <td>spotify:track:010jenmHogRDArWKod52XR</td>\n",
       "    </tr>\n",
       "    <tr>\n",
       "      <th>3</th>\n",
       "      <td>000c556aa021426138c47076d53dfbec</td>\n",
       "      <td>spotify:track:01gijlGB36OqjXJ0bUkE99</td>\n",
       "    </tr>\n",
       "    <tr>\n",
       "      <th>4</th>\n",
       "      <td>000c556aa021426138c47076d53dfbec</td>\n",
       "      <td>spotify:track:01z7U4QxORx59DIfSwImo2</td>\n",
       "    </tr>\n",
       "  </tbody>\n",
       "</table>\n",
       "</div>"
      ],
      "text/plain": [
       "                               user                                 track\n",
       "0  000c556aa021426138c47076d53dfbec  spotify:track:000UQuSa2QcsWFK0tGTBDM\n",
       "1  000c556aa021426138c47076d53dfbec  spotify:track:001faoWrA2TK6dw9vHp9p6\n",
       "2  000c556aa021426138c47076d53dfbec  spotify:track:010jenmHogRDArWKod52XR\n",
       "3  000c556aa021426138c47076d53dfbec  spotify:track:01gijlGB36OqjXJ0bUkE99\n",
       "4  000c556aa021426138c47076d53dfbec  spotify:track:01z7U4QxORx59DIfSwImo2"
      ]
     },
     "execution_count": 2,
     "metadata": {},
     "output_type": "execute_result"
    }
   ],
   "source": [
    "# read test set\n",
    "training = pd.read_csv(\"training.csv\")[['user', 'track']]\n",
    "training.head()"
   ]
  },
  {
   "cell_type": "code",
   "execution_count": 15,
   "metadata": {
    "collapsed": false,
    "deletable": true,
    "editable": true
   },
   "outputs": [],
   "source": [
    "# read test set\n",
    "tracks = training['track'].unique()\n",
    "size = len(tracks)\n",
    "items = np.zeros((size,size))\n",
    "track_id_dict = {}\n",
    "id_track_dict = {}\n",
    "for i,track in enumerate(tracks):\n",
    "    track_id_dict[i] = track\n",
    "    id_track_dict[track] = i"
   ]
  },
  {
   "cell_type": "code",
   "execution_count": 16,
   "metadata": {
    "collapsed": false,
    "deletable": true,
    "editable": true
   },
   "outputs": [],
   "source": [
    "user_dict = {}\n",
    "groups = training.groupby('user')\n",
    "for i, group in groups:\n",
    "    user_id = group['user'].iloc[0]\n",
    "    track_ids = set(group['track'])\n",
    "    user_dict[user_id] = track_ids    "
   ]
  },
  {
   "cell_type": "code",
   "execution_count": 19,
   "metadata": {
    "collapsed": false,
    "deletable": true,
    "editable": true
   },
   "outputs": [
    {
     "name": "stdout",
     "output_type": "stream",
     "text": [
      "User: 456 --- 570 tracks   \r"
     ]
    }
   ],
   "source": [
    "count = 0\n",
    "for tracks in user_dict.values():\n",
    "    track_ids = [id_track_dict[track] for track in tracks]\n",
    "    sys.stdout.write(\"User: \"+str(count)+\" --- \"+str(len(track_ids))+\" tracks \\r\")\n",
    "    sys.stdout.flush()\n",
    "    count += 1\n",
    "    if len(track_ids) < 500:\n",
    "        for track_id in track_ids:\n",
    "            items[track_id,track_ids] += 1"
   ]
  },
  {
   "cell_type": "markdown",
   "metadata": {
    "collapsed": false,
    "deletable": true,
    "editable": true
   },
   "source": [
    "## Suche"
   ]
  },
  {
   "cell_type": "code",
   "execution_count": 22,
   "metadata": {
    "collapsed": false,
    "deletable": true,
    "editable": true
   },
   "outputs": [],
   "source": [
    "track_list = ['spotify:track:000UQuSa2QcsWFK0tGTBDM', 'spotify:track:01gijlGB36OqjXJ0bUkE99']\n",
    "id_list = [id_track_dict[track] for track in track_list]"
   ]
  },
  {
   "cell_type": "code",
   "execution_count": 35,
   "metadata": {
    "collapsed": false
   },
   "outputs": [
    {
     "data": {
      "text/plain": [
       "['spotify:track:000UQuSa2QcsWFK0tGTBDM',\n",
       " 'spotify:track:001faoWrA2TK6dw9vHp9p6',\n",
       " 'spotify:track:010jenmHogRDArWKod52XR',\n",
       " 'spotify:track:01gijlGB36OqjXJ0bUkE99',\n",
       " 'spotify:track:01z7U4QxORx59DIfSwImo2',\n",
       " 'spotify:track:02lu50t1jrndVEOxebVd3Y',\n",
       " 'spotify:track:038TIbMNhiU691wSbikNBH',\n",
       " 'spotify:track:03bVBb42usKDSDX9HaypQP',\n",
       " 'spotify:track:03KIUGxW3RA4U7YoXvIxYK',\n",
       " 'spotify:track:03uLxw86NqtmPoES1xqg8L']"
      ]
     },
     "execution_count": 35,
     "metadata": {},
     "output_type": "execute_result"
    }
   ],
   "source": [
    "result = np.zeros((size, ))\n",
    "for track_id in id_list:\n",
    "    result += items[track_id]\n",
    "result = [(index, item) for index, item in enumerate(result)]\n",
    "result.sort(key=lambda item: item[1], reverse=True)\n",
    "result = result[:10]\n",
    "result = [(track_id_dict[i[0]]) for i in result]\n",
    "result"
   ]
  },
  {
   "cell_type": "code",
   "execution_count": null,
   "metadata": {
    "collapsed": true
   },
   "outputs": [],
   "source": []
  }
 ],
 "metadata": {
  "kernelspec": {
   "display_name": "Python 3",
   "language": "python",
   "name": "python3"
  },
  "language_info": {
   "codemirror_mode": {
    "name": "ipython",
    "version": 3
   },
   "file_extension": ".py",
   "mimetype": "text/x-python",
   "name": "python",
   "nbconvert_exporter": "python",
   "pygments_lexer": "ipython3",
   "version": "3.6.0"
  }
 },
 "nbformat": 4,
 "nbformat_minor": 2
}
