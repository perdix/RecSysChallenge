{
 "cells": [
  {
   "cell_type": "markdown",
   "metadata": {
    "deletable": true,
    "editable": true
   },
   "source": [
    "# Item Based Recommendation "
   ]
  },
  {
   "cell_type": "markdown",
   "metadata": {
    "deletable": true,
    "editable": true
   },
   "source": [
    "Recommendation based on track similarity. A track is similar to another one if it is listened by the same user."
   ]
  },
  {
   "cell_type": "code",
   "execution_count": 1,
   "metadata": {
    "collapsed": false,
    "deletable": true,
    "editable": true
   },
   "outputs": [],
   "source": [
    "import pandas as pd\n",
    "import numpy as np\n",
    "import sys\n",
    "from scipy.sparse import *\n",
    "from scipy import *\n",
    "import pickle"
   ]
  },
  {
   "cell_type": "code",
   "execution_count": 2,
   "metadata": {
    "collapsed": false,
    "deletable": true,
    "editable": true
   },
   "outputs": [
    {
     "data": {
      "text/html": [
       "<div>\n",
       "<table border=\"1\" class=\"dataframe\">\n",
       "  <thead>\n",
       "    <tr style=\"text-align: right;\">\n",
       "      <th></th>\n",
       "      <th>user</th>\n",
       "      <th>track</th>\n",
       "    </tr>\n",
       "  </thead>\n",
       "  <tbody>\n",
       "    <tr>\n",
       "      <th>0</th>\n",
       "      <td>000c556aa021426138c47076d53dfbec</td>\n",
       "      <td>spotify:track:4t1iATlAmtRUidtyJkX83E</td>\n",
       "    </tr>\n",
       "    <tr>\n",
       "      <th>1</th>\n",
       "      <td>000c556aa021426138c47076d53dfbec</td>\n",
       "      <td>spotify:track:6pb5BBnIM5IM7R1cqag6rE</td>\n",
       "    </tr>\n",
       "    <tr>\n",
       "      <th>2</th>\n",
       "      <td>000c556aa021426138c47076d53dfbec</td>\n",
       "      <td>spotify:track:4H9637mkUDyk9Rq0WgDEwc</td>\n",
       "    </tr>\n",
       "    <tr>\n",
       "      <th>3</th>\n",
       "      <td>000c556aa021426138c47076d53dfbec</td>\n",
       "      <td>spotify:track:2frPJPY60CPvMwESF6rEXk</td>\n",
       "    </tr>\n",
       "    <tr>\n",
       "      <th>4</th>\n",
       "      <td>000c556aa021426138c47076d53dfbec</td>\n",
       "      <td>spotify:track:5ikdUUm6JbnEVnp35c7dvy</td>\n",
       "    </tr>\n",
       "  </tbody>\n",
       "</table>\n",
       "</div>"
      ],
      "text/plain": [
       "                               user                                 track\n",
       "0  000c556aa021426138c47076d53dfbec  spotify:track:4t1iATlAmtRUidtyJkX83E\n",
       "1  000c556aa021426138c47076d53dfbec  spotify:track:6pb5BBnIM5IM7R1cqag6rE\n",
       "2  000c556aa021426138c47076d53dfbec  spotify:track:4H9637mkUDyk9Rq0WgDEwc\n",
       "3  000c556aa021426138c47076d53dfbec  spotify:track:2frPJPY60CPvMwESF6rEXk\n",
       "4  000c556aa021426138c47076d53dfbec  spotify:track:5ikdUUm6JbnEVnp35c7dvy"
      ]
     },
     "execution_count": 2,
     "metadata": {},
     "output_type": "execute_result"
    }
   ],
   "source": [
    "# read training set\n",
    "training = pd.read_csv(\"training.csv\")[['user', 'track']]\n",
    "training.head()"
   ]
  },
  {
   "cell_type": "code",
   "execution_count": null,
   "metadata": {
    "collapsed": false,
    "deletable": true,
    "editable": true
   },
   "outputs": [],
   "source": []
  },
  {
   "cell_type": "code",
   "execution_count": 3,
   "metadata": {
    "collapsed": false,
    "deletable": true,
    "editable": true
   },
   "outputs": [],
   "source": [
    "tracks = training['track'].unique()\n",
    "size = len(tracks)\n",
    "#items = np.zeros((size,size))\n",
    "items_sparse = csr_matrix( (size,size), dtype=int16 )\n",
    "track_id_dict = {}\n",
    "id_track_dict = {}\n",
    "for i,track in enumerate(tracks):\n",
    "    track_id_dict[track] = i\n",
    "    id_track_dict[i] = track\n",
    "    \n",
    "with open('track_to_id.pickle', 'wb') as handle:\n",
    "    pickle.dump(track_id_dict, handle, protocol=pickle.HIGHEST_PROTOCOL)    \n",
    "with open('id_to_track.pickle', 'wb') as handle:\n",
    "    pickle.dump(id_track_dict, handle, protocol=pickle.HIGHEST_PROTOCOL)        "
   ]
  },
  {
   "cell_type": "code",
   "execution_count": 4,
   "metadata": {
    "collapsed": false,
    "deletable": true,
    "editable": true
   },
   "outputs": [],
   "source": [
    "user_dict = {}\n",
    "groups = training.groupby('user')\n",
    "for i, group in groups:\n",
    "    user_id = group['user'].iloc[0]\n",
    "    track_ids = set(group['track'])\n",
    "    user_dict[user_id] = track_ids    "
   ]
  },
  {
   "cell_type": "code",
   "execution_count": 7,
   "metadata": {
    "collapsed": false,
    "deletable": true,
    "editable": true
   },
   "outputs": [
    {
     "name": "stdout",
     "output_type": "stream",
     "text": [
      "User: 568 --- 1561 tracks  \r"
     ]
    }
   ],
   "source": [
    "count = 0\n",
    "for tracks in user_dict.values():\n",
    "    track_ids = [track_id_dict[track] for track in tracks]\n",
    "    sys.stdout.write(\"User: \"+str(count)+\" --- \"+str(len(track_ids))+\" tracks \\r\")\n",
    "    sys.stdout.flush()\n",
    "    count += 1\n",
    "    if len(track_ids) < 500 and len(track_ids) > 25:\n",
    "        for track_id in track_ids:\n",
    "            #print(track_id_dict[track_id])\n",
    "            row = array([track_id for i in track_ids])\n",
    "            col = array(track_ids)\n",
    "            data = array([1 for i in track_ids])\n",
    "            acc = csr_matrix( (data,(row,col)), shape=(size,size), dtype=int16 )\n",
    "            items_sparse += acc"
   ]
  },
  {
   "cell_type": "code",
   "execution_count": 8,
   "metadata": {
    "collapsed": false,
    "deletable": true,
    "editable": true
   },
   "outputs": [],
   "source": [
    "#items_sparse.size\n",
    "save_npz('items_sparse.npz', items_sparse)\n",
    "#items_sparse.todense()\n",
    "#len(find(items_sparse)[2])\n",
    "#from scipy import sparse\n",
    "#sparse = sparse.csr_matrix(items)"
   ]
  },
  {
   "cell_type": "markdown",
   "metadata": {
    "collapsed": false,
    "deletable": true,
    "editable": true
   },
   "source": [
    "## Eval"
   ]
  },
  {
   "cell_type": "code",
   "execution_count": 2,
   "metadata": {
    "collapsed": false
   },
   "outputs": [],
   "source": [
    "training = pd.read_csv(\"training.csv\")[['user', 'track']]\n",
    "test = pd.read_csv(\"test.csv\")[['user', 'track']]"
   ]
  },
  {
   "cell_type": "code",
   "execution_count": 3,
   "metadata": {
    "collapsed": false
   },
   "outputs": [
    {
     "data": {
      "text/html": [
       "<div>\n",
       "<table border=\"1\" class=\"dataframe\">\n",
       "  <thead>\n",
       "    <tr style=\"text-align: right;\">\n",
       "      <th></th>\n",
       "      <th>user</th>\n",
       "      <th>track</th>\n",
       "    </tr>\n",
       "  </thead>\n",
       "  <tbody>\n",
       "    <tr>\n",
       "      <th>0</th>\n",
       "      <td>000c556aa021426138c47076d53dfbec</td>\n",
       "      <td>spotify:track:6i5TjPi3OBBj4RhAIWOY0I</td>\n",
       "    </tr>\n",
       "    <tr>\n",
       "      <th>1</th>\n",
       "      <td>000c556aa021426138c47076d53dfbec</td>\n",
       "      <td>spotify:track:0QidGooAdHGlLqQNuyh9cY</td>\n",
       "    </tr>\n",
       "    <tr>\n",
       "      <th>2</th>\n",
       "      <td>000c556aa021426138c47076d53dfbec</td>\n",
       "      <td>spotify:track:2SWBfqj1FrS8t8z56G55rP</td>\n",
       "    </tr>\n",
       "    <tr>\n",
       "      <th>3</th>\n",
       "      <td>000c556aa021426138c47076d53dfbec</td>\n",
       "      <td>spotify:track:5TQ6L7Wzq1uY7xyvISGyzG</td>\n",
       "    </tr>\n",
       "    <tr>\n",
       "      <th>4</th>\n",
       "      <td>000c556aa021426138c47076d53dfbec</td>\n",
       "      <td>spotify:track:7ryorjLv0ReRSUmcwo659l</td>\n",
       "    </tr>\n",
       "  </tbody>\n",
       "</table>\n",
       "</div>"
      ],
      "text/plain": [
       "                               user                                 track\n",
       "0  000c556aa021426138c47076d53dfbec  spotify:track:6i5TjPi3OBBj4RhAIWOY0I\n",
       "1  000c556aa021426138c47076d53dfbec  spotify:track:0QidGooAdHGlLqQNuyh9cY\n",
       "2  000c556aa021426138c47076d53dfbec  spotify:track:2SWBfqj1FrS8t8z56G55rP\n",
       "3  000c556aa021426138c47076d53dfbec  spotify:track:5TQ6L7Wzq1uY7xyvISGyzG\n",
       "4  000c556aa021426138c47076d53dfbec  spotify:track:7ryorjLv0ReRSUmcwo659l"
      ]
     },
     "execution_count": 3,
     "metadata": {},
     "output_type": "execute_result"
    }
   ],
   "source": [
    "test.head()"
   ]
  },
  {
   "cell_type": "code",
   "execution_count": 5,
   "metadata": {
    "collapsed": false
   },
   "outputs": [],
   "source": [
    "user_dict_train = {}\n",
    "groups = training.groupby('user')\n",
    "for i, group in groups:\n",
    "    user_id = group['user'].iloc[0]\n",
    "    track_ids = set(group['track'])\n",
    "    user_dict_train[user_id] = track_ids "
   ]
  },
  {
   "cell_type": "code",
   "execution_count": 10,
   "metadata": {
    "collapsed": true
   },
   "outputs": [],
   "source": [
    "user_dict_test = {}\n",
    "groups = test.groupby('user')\n",
    "for i, group in groups:\n",
    "    user_id = group['user'].iloc[0]\n",
    "    track_ids = set(group['track'])\n",
    "    user_dict_test[user_id] = track_ids "
   ]
  },
  {
   "cell_type": "code",
   "execution_count": 11,
   "metadata": {
    "collapsed": false
   },
   "outputs": [
    {
     "data": {
      "text/plain": [
       "268"
      ]
     },
     "execution_count": 11,
     "metadata": {},
     "output_type": "execute_result"
    }
   ],
   "source": [
    "len(user_dict_test['000c556aa021426138c47076d53dfbec'])"
   ]
  },
  {
   "cell_type": "code",
   "execution_count": 12,
   "metadata": {
    "collapsed": false
   },
   "outputs": [
    {
     "data": {
      "text/plain": [
       "1068"
      ]
     },
     "execution_count": 12,
     "metadata": {},
     "output_type": "execute_result"
    }
   ],
   "source": [
    "len(user_dict_train['000c556aa021426138c47076d53dfbec'])"
   ]
  },
  {
   "cell_type": "code",
   "execution_count": 13,
   "metadata": {
    "collapsed": true
   },
   "outputs": [],
   "source": [
    "tracks_train = user_dict_train['000c556aa021426138c47076d53dfbec']"
   ]
  },
  {
   "cell_type": "code",
   "execution_count": 19,
   "metadata": {
    "collapsed": true
   },
   "outputs": [],
   "source": [
    "tracks_test = user_dict_test['000c556aa021426138c47076d53dfbec']"
   ]
  },
  {
   "cell_type": "code",
   "execution_count": 15,
   "metadata": {
    "collapsed": false,
    "deletable": true,
    "editable": true
   },
   "outputs": [],
   "source": [
    "import ibrec"
   ]
  },
  {
   "cell_type": "code",
   "execution_count": 41,
   "metadata": {
    "collapsed": false,
    "deletable": true,
    "editable": true
   },
   "outputs": [],
   "source": [
    "tracks_result = ibrec.recommend(tracks_train, 50000)"
   ]
  },
  {
   "cell_type": "code",
   "execution_count": 42,
   "metadata": {
    "collapsed": false,
    "deletable": true,
    "editable": true
   },
   "outputs": [
    {
     "data": {
      "text/plain": [
       "26285"
      ]
     },
     "execution_count": 42,
     "metadata": {},
     "output_type": "execute_result"
    }
   ],
   "source": [
    "len(tracks_result)"
   ]
  },
  {
   "cell_type": "code",
   "execution_count": 43,
   "metadata": {
    "collapsed": false
   },
   "outputs": [
    {
     "name": "stdout",
     "output_type": "stream",
     "text": [
      "0.0022446262126688227\n",
      "0.22014925373134328\n"
     ]
    }
   ],
   "source": [
    "def get_precision(result_query, result_given):\n",
    "    if len(result_query) == 0:\n",
    "        return 0\n",
    "    else:\n",
    "        return len(set(result_given).intersection(result_query))/len(result_query)\n",
    "def get_recall(result_query, result_given):\n",
    "    if len(result_given) == 0:\n",
    "        return 0\n",
    "    else:\n",
    "        return len(set(result_given).intersection(result_query))/len(result_given)\n",
    "\n",
    "\n",
    "precision = get_precision(tracks_result, tracks_test)\n",
    "recall = get_recall(tracks_result, tracks_test)\n",
    "    \n",
    "#precision = get_precision([1, 2], [1, 2, 3, 4])\n",
    "#recall = get_recall([1, 2], [1, 2, 3, 4])\n",
    "    \n",
    "print(precision)\n",
    "print(recall)"
   ]
  },
  {
   "cell_type": "code",
   "execution_count": null,
   "metadata": {
    "collapsed": true
   },
   "outputs": [],
   "source": []
  }
 ],
 "metadata": {
  "kernelspec": {
   "display_name": "Python 3",
   "language": "python",
   "name": "python3"
  },
  "language_info": {
   "codemirror_mode": {
    "name": "ipython",
    "version": 3
   },
   "file_extension": ".py",
   "mimetype": "text/x-python",
   "name": "python",
   "nbconvert_exporter": "python",
   "pygments_lexer": "ipython3",
   "version": "3.6.0"
  }
 },
 "nbformat": 4,
 "nbformat_minor": 2
}
