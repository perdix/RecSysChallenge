{
 "cells": [
  {
   "cell_type": "code",
   "execution_count": 32,
   "metadata": {
    "collapsed": true
   },
   "outputs": [],
   "source": [
    "import pandas as pd\n",
    "import numpy as np\n",
    "import sys\n",
    "from scipy.sparse import *\n",
    "from scipy import *\n",
    "import pickle\n",
    "import requests"
   ]
  },
  {
   "cell_type": "code",
   "execution_count": 203,
   "metadata": {
    "collapsed": true
   },
   "outputs": [],
   "source": [
    "plays_train = pd.read_csv(\"data/training_data.csv\")\n",
    "plays_test = pd.read_csv(\"data/test_data.csv\")\n",
    "plays_all = pd.read_csv(\"data/ir2017.csv\")"
   ]
  },
  {
   "cell_type": "code",
   "execution_count": 193,
   "metadata": {
    "collapsed": false
   },
   "outputs": [
    {
     "data": {
      "text/plain": [
       "True"
      ]
     },
     "execution_count": 193,
     "metadata": {},
     "output_type": "execute_result"
    }
   ],
   "source": []
  },
  {
   "cell_type": "code",
   "execution_count": 139,
   "metadata": {
    "collapsed": false
   },
   "outputs": [],
   "source": [
    "user_dict_train = {}\n",
    "groups = plays_train.groupby('user')\n",
    "for i, group in groups:\n",
    "    user_id = group['user'].iloc[0]\n",
    "    track_ids = set(group['track'])\n",
    "    user_dict_train[user_id] = track_ids "
   ]
  },
  {
   "cell_type": "code",
   "execution_count": 140,
   "metadata": {
    "collapsed": true
   },
   "outputs": [],
   "source": [
    "user_dict_test = {}\n",
    "groups = plays_test.groupby('user')\n",
    "for i, group in groups:\n",
    "    user_id = group['user'].iloc[0]\n",
    "    track_ids = set(group['track'])\n",
    "    user_dict_test[user_id] = track_ids "
   ]
  },
  {
   "cell_type": "code",
   "execution_count": 183,
   "metadata": {
    "collapsed": false
   },
   "outputs": [],
   "source": [
    "userplays_train = user_dict_train['41019bc73383f4f196dbd6ee17cc70ef']"
   ]
  },
  {
   "cell_type": "code",
   "execution_count": 184,
   "metadata": {
    "collapsed": true
   },
   "outputs": [],
   "source": [
    "userplays_test = user_dict_test['41019bc73383f4f196dbd6ee17cc70ef']"
   ]
  },
  {
   "cell_type": "code",
   "execution_count": 185,
   "metadata": {
    "collapsed": false
   },
   "outputs": [],
   "source": [
    "url_track = 'https://api.spotify.com/v1/tracks/'\n",
    "url_album = 'https://api.spotify.com/v1/albums/'\n",
    "\n",
    "headers = {\n",
    "    'Accept': 'application/json',\n",
    "    #'Authorization': 'BQDtquTwN3JFhD_7COzfIMrT4LsHA6P34Ps2mM4taKV_g_O'\n",
    "}\n"
   ]
  },
  {
   "cell_type": "code",
   "execution_count": 186,
   "metadata": {
    "collapsed": false
   },
   "outputs": [],
   "source": [
    "# fetch tracks from same album for all the user track\n",
    "result = list()\n",
    "albums = list()\n",
    "s = requests.Session()\n",
    "tracks = [ i.replace('spotify:track:', '') for i in userplays_train]\n",
    "### limited to prevent too many requests at once\n",
    "tracks = tracks[:100]\n",
    "\n",
    "import time\n",
    "\n",
    "for track in tracks:\n",
    "    response = s.get(url_track + track , headers=headers)\n",
    "    #time.sleep(0.1)\n",
    "    if response.status_code == 200:\n",
    "        json = response.json()\n",
    "        #print(json['album']['id'])\n",
    "        albums.append(json['album']['id'])\n",
    "        #print(json['album']['id'])\n",
    "    else:\n",
    "        print(response)\n",
    "\n",
    "for album in albums:\n",
    "    response = s.get(url_album + album , headers=headers)\n",
    "    #time.sleep(0.1)\n",
    "    if response.status_code == 200:\n",
    "        json = response.json()\n",
    "        #result.add(json['tracks']['items']['id'])\n",
    "        album_tracks = [i['id'] for i in json['tracks']['items']]\n",
    "        for track in album_tracks:\n",
    "            if track not in plays_train:\n",
    "                result.append(track)\n",
    "    else:\n",
    "        print(response.status_code)"
   ]
  },
  {
   "cell_type": "code",
   "execution_count": 194,
   "metadata": {
    "collapsed": false
   },
   "outputs": [],
   "source": [
    "from collections import Counter\n",
    "cnt = Counter()\n",
    "for track in result:\n",
    "    cnt[track] += 1"
   ]
  },
  {
   "cell_type": "code",
   "execution_count": 207,
   "metadata": {
    "collapsed": false
   },
   "outputs": [
    {
     "data": {
      "text/plain": [
       "37"
      ]
     },
     "execution_count": 207,
     "metadata": {},
     "output_type": "execute_result"
    }
   ],
   "source": [
    "sortedlist = list(cnt.most_common()[:200])\n",
    "userplays_result1 = ['spotify:track:'+i[0] for i in sortedlist]\n",
    "alltracks = plays_all['track'].unique()\n",
    "userplays_result = [i for i in userplays_result1 if i in alltracks]\n",
    "len(userplays_result)"
   ]
  },
  {
   "cell_type": "code",
   "execution_count": 206,
   "metadata": {
    "collapsed": false
   },
   "outputs": [
    {
     "data": {
      "text/plain": [
       "200"
      ]
     },
     "execution_count": 206,
     "metadata": {},
     "output_type": "execute_result"
    }
   ],
   "source": [
    "len(userplays_result1)"
   ]
  },
  {
   "cell_type": "code",
   "execution_count": 208,
   "metadata": {
    "collapsed": false
   },
   "outputs": [
    {
     "name": "stdout",
     "output_type": "stream",
     "text": [
      "0.1891891891891892\n",
      "0.4666666666666667\n"
     ]
    }
   ],
   "source": [
    "def get_precision(result_query, result_given):\n",
    "    if len(result_query) == 0:\n",
    "        return 0\n",
    "    else:\n",
    "        return len(set(result_given).intersection(result_query))/len(result_query)\n",
    "def get_recall(result_query, result_given):\n",
    "    if len(result_given) == 0:\n",
    "        return 0\n",
    "    else:\n",
    "        return len(set(result_given).intersection(result_query))/len(result_given)\n",
    "\n",
    "\n",
    "precision = get_precision(userplays_result, userplays_test)\n",
    "recall = get_recall(userplays_result, userplays_test)\n",
    "    \n",
    "#precision = get_precision([1, 2], [1, 2, 3, 4])\n",
    "#recall = get_recall([1, 2], [1, 2, 3, 4])\n",
    "    \n",
    "print(precision)\n",
    "print(recall)"
   ]
  },
  {
   "cell_type": "code",
   "execution_count": null,
   "metadata": {
    "collapsed": false
   },
   "outputs": [],
   "source": []
  },
  {
   "cell_type": "code",
   "execution_count": null,
   "metadata": {
    "collapsed": true
   },
   "outputs": [],
   "source": []
  }
 ],
 "metadata": {
  "kernelspec": {
   "display_name": "Python 3",
   "language": "python",
   "name": "python3"
  },
  "language_info": {
   "codemirror_mode": {
    "name": "ipython",
    "version": 3
   },
   "file_extension": ".py",
   "mimetype": "text/x-python",
   "name": "python",
   "nbconvert_exporter": "python",
   "pygments_lexer": "ipython3",
   "version": "3.6.0"
  },
  "varInspector": {
   "cols": {
    "lenName": 16,
    "lenType": 16,
    "lenVar": 40
   },
   "kernels_config": {
    "python": {
     "delete_cmd_postfix": "",
     "delete_cmd_prefix": "del ",
     "library": "var_list.py",
     "varRefreshCmd": "print(var_dic_list())"
    },
    "r": {
     "delete_cmd_postfix": ") ",
     "delete_cmd_prefix": "rm(",
     "library": "var_list.r",
     "varRefreshCmd": "cat(var_dic_list()) "
    }
   },
   "types_to_exclude": [
    "module",
    "function",
    "builtin_function_or_method",
    "instance",
    "_Feature"
   ],
   "window_display": false
  }
 },
 "nbformat": 4,
 "nbformat_minor": 2
}
