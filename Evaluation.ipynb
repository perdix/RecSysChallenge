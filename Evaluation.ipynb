{
 "cells": [
  {
   "cell_type": "markdown",
   "metadata": {
    "deletable": true,
    "editable": true
   },
   "source": [
    "# Evaluation"
   ]
  },
  {
   "cell_type": "code",
   "execution_count": 12,
   "metadata": {
    "collapsed": true,
    "deletable": true,
    "editable": true
   },
   "outputs": [],
   "source": [
    "import numpy as np\n",
    "import pandas as pd"
   ]
  },
  {
   "cell_type": "markdown",
   "metadata": {
    "deletable": true,
    "editable": true
   },
   "source": [
    "## Execute and Read Data"
   ]
  },
  {
   "cell_type": "code",
   "execution_count": 23,
   "metadata": {
    "collapsed": false,
    "deletable": true,
    "editable": true
   },
   "outputs": [],
   "source": [
    "# Read training and test data\n",
    "plays_test = pd.read_csv(\"test.csv\")"
   ]
  },
  {
   "cell_type": "code",
   "execution_count": 24,
   "metadata": {
    "collapsed": false,
    "deletable": true,
    "editable": true
   },
   "outputs": [
    {
     "name": "stdout",
     "output_type": "stream",
     "text": [
      "Recommendations written in results.csv\n"
     ]
    }
   ],
   "source": [
    "# run the script\n",
    "%run recsys.py -i \"training.csv\" -n 100 -o \"results.csv\""
   ]
  },
  {
   "cell_type": "code",
   "execution_count": 25,
   "metadata": {
    "collapsed": false,
    "deletable": true,
    "editable": true
   },
   "outputs": [],
   "source": [
    "# read result and add to dict\n",
    "plays_result = pd.read_csv(\"results.csv\") \n",
    "results_dict = {}\n",
    "groups = plays_result.groupby('user')\n",
    "for i, group in groups:\n",
    "    user_id = group['user'].iloc[0]\n",
    "    track_ids = set(group['track'])\n",
    "    results_dict[user_id] = track_ids"
   ]
  },
  {
   "cell_type": "code",
   "execution_count": 26,
   "metadata": {
    "collapsed": false,
    "deletable": true,
    "editable": true
   },
   "outputs": [],
   "source": [
    "# add test to dict\n",
    "test_dict = {}\n",
    "groups = plays_test.groupby('user')\n",
    "for i, group in groups:\n",
    "    user_id = group['user'].iloc[0]\n",
    "    track_ids = set(group['track'])\n",
    "    test_dict[user_id] = track_ids"
   ]
  },
  {
   "cell_type": "markdown",
   "metadata": {
    "deletable": true,
    "editable": true
   },
   "source": [
    "## Compare and create precision and recall"
   ]
  },
  {
   "cell_type": "code",
   "execution_count": 27,
   "metadata": {
    "collapsed": false,
    "deletable": true,
    "editable": true
   },
   "outputs": [
    {
     "name": "stdout",
     "output_type": "stream",
     "text": [
      "0.0197820500844\n",
      "0.0328136200717\n"
     ]
    }
   ],
   "source": [
    "def get_precision(result_query, result_given):\n",
    "    if len(result_query) == 0:\n",
    "        return 0\n",
    "    else:\n",
    "        return len(set(result_given).intersection(result_query))/len(result_query)\n",
    "def get_recall(result_query, result_given):\n",
    "    if len(result_given) == 0:\n",
    "        return 0\n",
    "    else:\n",
    "        return len(set(result_given).intersection(result_query))/len(result_given)\n",
    "\n",
    "precisions = {}\n",
    "recalls = {}\n",
    "for key, value in results_dict.items():\n",
    "    precisions[key] = get_precision(test_dict[key], results_dict[key])\n",
    "    recalls[key] = get_recall(test_dict[key], results_dict[key])\n",
    "    \n",
    "precision = np.mean(list(precisions.values()))\n",
    "recall = np.mean(list(recalls.values()))\n",
    "print(precision)\n",
    "print(recall)"
   ]
  },
  {
   "cell_type": "code",
   "execution_count": null,
   "metadata": {
    "collapsed": false,
    "deletable": true,
    "editable": true
   },
   "outputs": [],
   "source": []
  },
  {
   "cell_type": "code",
   "execution_count": null,
   "metadata": {
    "collapsed": true,
    "deletable": true,
    "editable": true
   },
   "outputs": [],
   "source": []
  }
 ],
 "metadata": {
  "kernelspec": {
   "display_name": "Python 3",
   "language": "python",
   "name": "python3"
  },
  "language_info": {
   "codemirror_mode": {
    "name": "ipython",
    "version": 3
   },
   "file_extension": ".py",
   "mimetype": "text/x-python",
   "name": "python",
   "nbconvert_exporter": "python",
   "pygments_lexer": "ipython3",
   "version": "3.6.0"
  }
 },
 "nbformat": 4,
 "nbformat_minor": 2
}
