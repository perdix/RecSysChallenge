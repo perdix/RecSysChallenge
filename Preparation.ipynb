{
 "cells": [
  {
   "cell_type": "markdown",
   "metadata": {
    "deletable": true,
    "editable": true
   },
   "source": [
    "# Preparation"
   ]
  },
  {
   "cell_type": "code",
   "execution_count": 41,
   "metadata": {
    "collapsed": true,
    "deletable": true,
    "editable": true
   },
   "outputs": [],
   "source": [
    "import pandas as pd\n",
    "from sklearn.model_selection import train_test_split"
   ]
  },
  {
   "cell_type": "code",
   "execution_count": 42,
   "metadata": {
    "collapsed": false,
    "deletable": true,
    "editable": true
   },
   "outputs": [],
   "source": [
    "# Read data and create training and test sets\n",
    "plays = pd.read_csv(\"ir2017.csv\")\n",
    "\n",
    "plays_train = pd.DataFrame()\n",
    "plays_test = pd.DataFrame()\n",
    "\n",
    "users = plays.groupby('user')\n",
    "for i, user in users:\n",
    "    train, test = train_test_split(user, test_size = 0.2)\n",
    "    plays_train = plays_train.append(train)\n",
    "    plays_test = plays_test.append(test)"
   ]
  },
  {
   "cell_type": "code",
   "execution_count": 44,
   "metadata": {
    "collapsed": false
   },
   "outputs": [],
   "source": [
    "# Validation tests\n",
    "users_train_size = len(plays_train['user'].unique())\n",
    "users_test_size = len(plays_test['user'].unique())\n",
    "train_size = len(plays_train)\n",
    "test_size = len(plays_test)\n",
    "plays_size = len(plays)\n",
    "assert(users_train_size == users_test_size)\n",
    "assert(plays_size == train_size + test_size)"
   ]
  },
  {
   "cell_type": "code",
   "execution_count": 45,
   "metadata": {
    "collapsed": true,
    "deletable": true,
    "editable": true
   },
   "outputs": [],
   "source": [
    "# Save to files for further use\n",
    "plays_train.to_csv('training.csv', index=False)\n",
    "plays_test.to_csv('test.csv', index=False)"
   ]
  }
 ],
 "metadata": {
  "kernelspec": {
   "display_name": "Python 3",
   "language": "python",
   "name": "python3"
  },
  "language_info": {
   "codemirror_mode": {
    "name": "ipython",
    "version": 3
   },
   "file_extension": ".py",
   "mimetype": "text/x-python",
   "name": "python",
   "nbconvert_exporter": "python",
   "pygments_lexer": "ipython3",
   "version": "3.6.0"
  }
 },
 "nbformat": 4,
 "nbformat_minor": 2
}
