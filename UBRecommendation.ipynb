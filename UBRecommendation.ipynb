{
 "cells": [
  {
   "cell_type": "code",
   "execution_count": 12,
   "metadata": {
    "collapsed": true,
    "deletable": true,
    "editable": true
   },
   "outputs": [],
   "source": [
    "import pandas as pd\n",
    "import numpy as np\n",
    "import sys\n",
    "from scipy.sparse import *\n",
    "from scipy import *\n",
    "import pickle"
   ]
  },
  {
   "cell_type": "code",
   "execution_count": 13,
   "metadata": {
    "collapsed": false,
    "deletable": true,
    "editable": true
   },
   "outputs": [
    {
     "data": {
      "text/html": [
       "<div>\n",
       "<table border=\"1\" class=\"dataframe\">\n",
       "  <thead>\n",
       "    <tr style=\"text-align: right;\">\n",
       "      <th></th>\n",
       "      <th>user</th>\n",
       "      <th>track</th>\n",
       "    </tr>\n",
       "  </thead>\n",
       "  <tbody>\n",
       "    <tr>\n",
       "      <th>0</th>\n",
       "      <td>000c556aa021426138c47076d53dfbec</td>\n",
       "      <td>spotify:track:4t1iATlAmtRUidtyJkX83E</td>\n",
       "    </tr>\n",
       "    <tr>\n",
       "      <th>1</th>\n",
       "      <td>000c556aa021426138c47076d53dfbec</td>\n",
       "      <td>spotify:track:6pb5BBnIM5IM7R1cqag6rE</td>\n",
       "    </tr>\n",
       "    <tr>\n",
       "      <th>2</th>\n",
       "      <td>000c556aa021426138c47076d53dfbec</td>\n",
       "      <td>spotify:track:4H9637mkUDyk9Rq0WgDEwc</td>\n",
       "    </tr>\n",
       "    <tr>\n",
       "      <th>3</th>\n",
       "      <td>000c556aa021426138c47076d53dfbec</td>\n",
       "      <td>spotify:track:2frPJPY60CPvMwESF6rEXk</td>\n",
       "    </tr>\n",
       "    <tr>\n",
       "      <th>4</th>\n",
       "      <td>000c556aa021426138c47076d53dfbec</td>\n",
       "      <td>spotify:track:5ikdUUm6JbnEVnp35c7dvy</td>\n",
       "    </tr>\n",
       "  </tbody>\n",
       "</table>\n",
       "</div>"
      ],
      "text/plain": [
       "                               user                                 track\n",
       "0  000c556aa021426138c47076d53dfbec  spotify:track:4t1iATlAmtRUidtyJkX83E\n",
       "1  000c556aa021426138c47076d53dfbec  spotify:track:6pb5BBnIM5IM7R1cqag6rE\n",
       "2  000c556aa021426138c47076d53dfbec  spotify:track:4H9637mkUDyk9Rq0WgDEwc\n",
       "3  000c556aa021426138c47076d53dfbec  spotify:track:2frPJPY60CPvMwESF6rEXk\n",
       "4  000c556aa021426138c47076d53dfbec  spotify:track:5ikdUUm6JbnEVnp35c7dvy"
      ]
     },
     "execution_count": 13,
     "metadata": {},
     "output_type": "execute_result"
    }
   ],
   "source": [
    "# read training set\n",
    "training = pd.read_csv(\"training.csv\")[['user', 'track']]\n",
    "training.head()"
   ]
  },
  {
   "cell_type": "code",
   "execution_count": 14,
   "metadata": {
    "collapsed": false,
    "deletable": true,
    "editable": true
   },
   "outputs": [
    {
     "name": "stdout",
     "output_type": "stream",
     "text": [
      "(569, 476357)\n"
     ]
    }
   ],
   "source": [
    "tracks = training['track'].unique()\n",
    "tracks_size = len(tracks)\n",
    "\n",
    "users = training['user'].unique()\n",
    "users_size = len(users)\n",
    "\n",
    "\n",
    "#items = np.zeros((size,size))\n",
    "users_sparse = csr_matrix( (users_size,tracks_size), dtype=int16 )\n",
    "\n",
    "\n",
    "print(users_sparse.shape)\n",
    "      \n",
    "\n",
    "\n",
    "track_id_dict = {}\n",
    "id_track_dict = {}\n",
    "for i,track in enumerate(tracks):\n",
    "    track_id_dict[track] = i\n",
    "    id_track_dict[i] = track\n",
    "    \n",
    "\n",
    "user_id_dict = {}\n",
    "id_user_dict = {}\n",
    "for i,user in enumerate(users):\n",
    "    user_id_dict[user] = i\n",
    "    id_user_dict[i] = user\n",
    "    \n",
    "    \n",
    "with open('track_to_id.pickle', 'wb') as handle:\n",
    "    pickle.dump(track_id_dict, handle, protocol=pickle.HIGHEST_PROTOCOL)    \n",
    "with open('id_to_track.pickle', 'wb') as handle:\n",
    "    pickle.dump(id_track_dict, handle, protocol=pickle.HIGHEST_PROTOCOL)     \n",
    "    \n",
    "with open('user_to_id.pickle', 'wb') as handle:\n",
    "    pickle.dump(user_id_dict, handle, protocol=pickle.HIGHEST_PROTOCOL)    \n",
    "with open('id_to_user.pickle', 'wb') as handle:\n",
    "    pickle.dump(id_user_dict, handle, protocol=pickle.HIGHEST_PROTOCOL)     "
   ]
  },
  {
   "cell_type": "code",
   "execution_count": 15,
   "metadata": {
    "collapsed": true,
    "deletable": true,
    "editable": true
   },
   "outputs": [],
   "source": [
    "# Create user dict\n",
    "user_dict = {}\n",
    "groups = training.groupby('user')\n",
    "for i, group in groups:\n",
    "    user_id = group['user'].iloc[0]\n",
    "    track_ids = set(group['track'])\n",
    "    user_dict[user_id] = track_ids    "
   ]
  },
  {
   "cell_type": "code",
   "execution_count": null,
   "metadata": {
    "collapsed": false,
    "deletable": true,
    "editable": true
   },
   "outputs": [
    {
     "name": "stdout",
     "output_type": "stream",
     "text": [
      "User: 232\r"
     ]
    }
   ],
   "source": [
    "# Generate user item matrix\n",
    "count = 0\n",
    "for user, tracks in user_dict.items():\n",
    "    track_ids = [track_id_dict[track] for track in tracks]\n",
    "    user_id = user_id_dict[user]\n",
    "    sys.stdout.write(\"User: \"+str(count)+\"\\r\")\n",
    "    sys.stdout.flush()\n",
    "    count += 1\n",
    "    #if len(track_ids) < 1500 and len(track_ids) > 25:\n",
    "    for track_id in track_ids:\n",
    "        #print(track_id_dict[track_id])\n",
    "        row = array([user_id for i in track_ids])\n",
    "        col = array(track_ids)\n",
    "        data = array([1 for i in track_ids])\n",
    "        acc = csr_matrix( (data,(row,col)), shape=(users_size,tracks_size), dtype=int16 )\n",
    "        users_sparse += acc"
   ]
  },
  {
   "cell_type": "code",
   "execution_count": 16,
   "metadata": {
    "collapsed": true,
    "deletable": true,
    "editable": true
   },
   "outputs": [],
   "source": [
    "save_npz('users_sparse.npz', users_sparse)"
   ]
  },
  {
   "cell_type": "markdown",
   "metadata": {
    "deletable": true,
    "editable": true
   },
   "source": [
    "# Test"
   ]
  },
  {
   "cell_type": "code",
   "execution_count": 1,
   "metadata": {
    "collapsed": false,
    "deletable": true,
    "editable": true
   },
   "outputs": [
    {
     "data": {
      "text/html": [
       "<div>\n",
       "<table border=\"1\" class=\"dataframe\">\n",
       "  <thead>\n",
       "    <tr style=\"text-align: right;\">\n",
       "      <th></th>\n",
       "      <th>user</th>\n",
       "      <th>track</th>\n",
       "    </tr>\n",
       "  </thead>\n",
       "  <tbody>\n",
       "    <tr>\n",
       "      <th>0</th>\n",
       "      <td>000c556aa021426138c47076d53dfbec</td>\n",
       "      <td>spotify:track:6i5TjPi3OBBj4RhAIWOY0I</td>\n",
       "    </tr>\n",
       "    <tr>\n",
       "      <th>1</th>\n",
       "      <td>000c556aa021426138c47076d53dfbec</td>\n",
       "      <td>spotify:track:0QidGooAdHGlLqQNuyh9cY</td>\n",
       "    </tr>\n",
       "    <tr>\n",
       "      <th>2</th>\n",
       "      <td>000c556aa021426138c47076d53dfbec</td>\n",
       "      <td>spotify:track:2SWBfqj1FrS8t8z56G55rP</td>\n",
       "    </tr>\n",
       "    <tr>\n",
       "      <th>3</th>\n",
       "      <td>000c556aa021426138c47076d53dfbec</td>\n",
       "      <td>spotify:track:5TQ6L7Wzq1uY7xyvISGyzG</td>\n",
       "    </tr>\n",
       "    <tr>\n",
       "      <th>4</th>\n",
       "      <td>000c556aa021426138c47076d53dfbec</td>\n",
       "      <td>spotify:track:7ryorjLv0ReRSUmcwo659l</td>\n",
       "    </tr>\n",
       "  </tbody>\n",
       "</table>\n",
       "</div>"
      ],
      "text/plain": [
       "                               user                                 track\n",
       "0  000c556aa021426138c47076d53dfbec  spotify:track:6i5TjPi3OBBj4RhAIWOY0I\n",
       "1  000c556aa021426138c47076d53dfbec  spotify:track:0QidGooAdHGlLqQNuyh9cY\n",
       "2  000c556aa021426138c47076d53dfbec  spotify:track:2SWBfqj1FrS8t8z56G55rP\n",
       "3  000c556aa021426138c47076d53dfbec  spotify:track:5TQ6L7Wzq1uY7xyvISGyzG\n",
       "4  000c556aa021426138c47076d53dfbec  spotify:track:7ryorjLv0ReRSUmcwo659l"
      ]
     },
     "execution_count": 1,
     "metadata": {},
     "output_type": "execute_result"
    }
   ],
   "source": [
    "import pandas as pd\n",
    "training = pd.read_csv(\"training.csv\")[['user', 'track']]\n",
    "test = pd.read_csv(\"test.csv\")[['user', 'track']]\n",
    "test.head()"
   ]
  },
  {
   "cell_type": "code",
   "execution_count": 2,
   "metadata": {
    "collapsed": false,
    "deletable": true,
    "editable": true
   },
   "outputs": [],
   "source": [
    "user_dict_train = {}\n",
    "groups = training.groupby('user')\n",
    "for i, group in groups:\n",
    "    user_id = group['user'].iloc[0]\n",
    "    track_ids = set(group['track'])\n",
    "    user_dict_train[user_id] = track_ids "
   ]
  },
  {
   "cell_type": "code",
   "execution_count": 3,
   "metadata": {
    "collapsed": false,
    "deletable": true,
    "editable": true
   },
   "outputs": [],
   "source": [
    "user_dict_test = {}\n",
    "groups = test.groupby('user')\n",
    "for i, group in groups:\n",
    "    user_id = group['user'].iloc[0]\n",
    "    track_ids = set(group['track'])\n",
    "    user_dict_test[user_id] = track_ids "
   ]
  },
  {
   "cell_type": "code",
   "execution_count": 4,
   "metadata": {
    "collapsed": false,
    "deletable": true,
    "editable": true
   },
   "outputs": [],
   "source": [
    "tracks_train = user_dict_train['000c556aa021426138c47076d53dfbec']"
   ]
  },
  {
   "cell_type": "code",
   "execution_count": 5,
   "metadata": {
    "collapsed": false,
    "deletable": true,
    "editable": true
   },
   "outputs": [],
   "source": [
    "tracks_test = user_dict_test['000c556aa021426138c47076d53dfbec']"
   ]
  },
  {
   "cell_type": "code",
   "execution_count": 6,
   "metadata": {
    "collapsed": false,
    "deletable": true,
    "editable": true
   },
   "outputs": [],
   "source": [
    "import ubrec"
   ]
  },
  {
   "cell_type": "code",
   "execution_count": 10,
   "metadata": {
    "collapsed": false,
    "deletable": true,
    "editable": true
   },
   "outputs": [],
   "source": [
    "tracks_result = ubrec.recommend(tracks_train, 500)\n",
    "#tracks_result"
   ]
  },
  {
   "cell_type": "code",
   "execution_count": 11,
   "metadata": {
    "collapsed": false,
    "deletable": true,
    "editable": true
   },
   "outputs": [
    {
     "name": "stdout",
     "output_type": "stream",
     "text": [
      "0.014\n",
      "0.026119402985074626\n"
     ]
    }
   ],
   "source": [
    "def get_precision(result_query, result_given):\n",
    "    if len(result_query) == 0:\n",
    "        return 0\n",
    "    else:\n",
    "        return len(set(result_given).intersection(result_query))/len(result_query)\n",
    "def get_recall(result_query, result_given):\n",
    "    if len(result_given) == 0:\n",
    "        return 0\n",
    "    else:\n",
    "        return len(set(result_given).intersection(result_query))/len(result_given)\n",
    "\n",
    "\n",
    "precision = get_precision(tracks_result, tracks_test)\n",
    "recall = get_recall(tracks_result, tracks_test)\n",
    "    \n",
    "#precision = get_precision([1, 2], [1, 2, 3, 4])\n",
    "#recall = get_recall([1, 2], [1, 2, 3, 4])\n",
    "    \n",
    "print(precision)\n",
    "print(recall)\n"
   ]
  },
  {
   "cell_type": "code",
   "execution_count": null,
   "metadata": {
    "collapsed": true,
    "deletable": true,
    "editable": true
   },
   "outputs": [],
   "source": []
  }
 ],
 "metadata": {
  "kernelspec": {
   "display_name": "Python 3",
   "language": "python",
   "name": "python3"
  },
  "language_info": {
   "codemirror_mode": {
    "name": "ipython",
    "version": 3
   },
   "file_extension": ".py",
   "mimetype": "text/x-python",
   "name": "python",
   "nbconvert_exporter": "python",
   "pygments_lexer": "ipython3",
   "version": "3.6.0"
  }
 },
 "nbformat": 4,
 "nbformat_minor": 2
}
