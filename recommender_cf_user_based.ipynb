{
 "cells": [
  {
   "cell_type": "code",
   "execution_count": 29,
   "metadata": {
    "collapsed": true,
    "deletable": true,
    "editable": true
   },
   "outputs": [],
   "source": [
    "import pandas as pd\n",
    "import numpy as np\n",
    "import sys\n",
    "from scipy.sparse import *\n",
    "from scipy import *\n",
    "import pickle"
   ]
  },
  {
   "cell_type": "code",
   "execution_count": 38,
   "metadata": {
    "collapsed": false,
    "deletable": true,
    "editable": true
   },
   "outputs": [
    {
     "data": {
      "text/html": [
       "<div>\n",
       "<table border=\"1\" class=\"dataframe\">\n",
       "  <thead>\n",
       "    <tr style=\"text-align: right;\">\n",
       "      <th></th>\n",
       "      <th>user</th>\n",
       "      <th>track</th>\n",
       "    </tr>\n",
       "  </thead>\n",
       "  <tbody>\n",
       "    <tr>\n",
       "      <th>0</th>\n",
       "      <td>000c556aa021426138c47076d53dfbec</td>\n",
       "      <td>spotify:track:741YBRPcuQo58RkVygeAey</td>\n",
       "    </tr>\n",
       "    <tr>\n",
       "      <th>1</th>\n",
       "      <td>000c556aa021426138c47076d53dfbec</td>\n",
       "      <td>spotify:track:4e2jNdR9J0PoubH0CqQm4j</td>\n",
       "    </tr>\n",
       "    <tr>\n",
       "      <th>2</th>\n",
       "      <td>000c556aa021426138c47076d53dfbec</td>\n",
       "      <td>spotify:track:467KUJ5Gm4p8znEpVKK5i5</td>\n",
       "    </tr>\n",
       "    <tr>\n",
       "      <th>3</th>\n",
       "      <td>000c556aa021426138c47076d53dfbec</td>\n",
       "      <td>spotify:track:2JO3HwMRPeya8bXbtbyPcf</td>\n",
       "    </tr>\n",
       "    <tr>\n",
       "      <th>4</th>\n",
       "      <td>000c556aa021426138c47076d53dfbec</td>\n",
       "      <td>spotify:track:7kw6yVmdZGuRcWGi4adXYT</td>\n",
       "    </tr>\n",
       "  </tbody>\n",
       "</table>\n",
       "</div>"
      ],
      "text/plain": [
       "                               user                                 track\n",
       "0  000c556aa021426138c47076d53dfbec  spotify:track:741YBRPcuQo58RkVygeAey\n",
       "1  000c556aa021426138c47076d53dfbec  spotify:track:4e2jNdR9J0PoubH0CqQm4j\n",
       "2  000c556aa021426138c47076d53dfbec  spotify:track:467KUJ5Gm4p8znEpVKK5i5\n",
       "3  000c556aa021426138c47076d53dfbec  spotify:track:2JO3HwMRPeya8bXbtbyPcf\n",
       "4  000c556aa021426138c47076d53dfbec  spotify:track:7kw6yVmdZGuRcWGi4adXYT"
      ]
     },
     "execution_count": 38,
     "metadata": {},
     "output_type": "execute_result"
    }
   ],
   "source": [
    "# read training set\n",
    "training = pd.read_csv(\"data/training_data.csv\")[['user', 'track']]\n",
    "\n",
    "#training = training.iloc[:10000]\n",
    "training.head()\n"
   ]
  },
  {
   "cell_type": "code",
   "execution_count": 39,
   "metadata": {
    "collapsed": false,
    "deletable": true,
    "editable": true
   },
   "outputs": [
    {
     "name": "stdout",
     "output_type": "stream",
     "text": [
      "(569, 476161)\n"
     ]
    }
   ],
   "source": [
    "tracks = training['track'].unique()\n",
    "tracks_size = len(tracks)\n",
    "\n",
    "users = training['user'].unique()\n",
    "users_size = len(users)\n",
    "\n",
    "\n",
    "#items = np.zeros((size,size))\n",
    "users_sparse = csr_matrix( (users_size,tracks_size), dtype=int16 )\n",
    "\n",
    "\n",
    "print(users_sparse.shape)\n",
    "      \n",
    "\n",
    "\n",
    "track_id_dict = {}\n",
    "id_track_dict = {}\n",
    "for i,track in enumerate(tracks):\n",
    "    track_id_dict[track] = i\n",
    "    id_track_dict[i] = track\n",
    "    \n",
    "\n",
    "user_id_dict = {}\n",
    "id_user_dict = {}\n",
    "for i,user in enumerate(users):\n",
    "    user_id_dict[user] = i\n",
    "    id_user_dict[i] = user\n",
    "    \n",
    "    \n",
    "with open('cache/track_to_id.pickle', 'wb') as handle:\n",
    "    pickle.dump(track_id_dict, handle, protocol=pickle.HIGHEST_PROTOCOL)    \n",
    "with open('cache/id_to_track.pickle', 'wb') as handle:\n",
    "    pickle.dump(id_track_dict, handle, protocol=pickle.HIGHEST_PROTOCOL)     \n",
    "    \n",
    "with open('cache/user_to_id.pickle', 'wb') as handle:\n",
    "    pickle.dump(user_id_dict, handle, protocol=pickle.HIGHEST_PROTOCOL)    \n",
    "with open('cache/id_to_user.pickle', 'wb') as handle:\n",
    "    pickle.dump(id_user_dict, handle, protocol=pickle.HIGHEST_PROTOCOL)"
   ]
  },
  {
   "cell_type": "code",
   "execution_count": 41,
   "metadata": {
    "collapsed": true,
    "deletable": true,
    "editable": true
   },
   "outputs": [],
   "source": [
    "# Create user dict\n",
    "user_dict = {}\n",
    "groups = training.groupby('user')\n",
    "for i, group in groups:\n",
    "    user_id = group['user'].iloc[0]\n",
    "    track_ids = set(group['track'])\n",
    "    user_dict[user_id] = track_ids"
   ]
  },
  {
   "cell_type": "code",
   "execution_count": 42,
   "metadata": {
    "collapsed": false,
    "deletable": true,
    "editable": true
   },
   "outputs": [
    {
     "name": "stdout",
     "output_type": "stream",
     "text": [
      "User: 568\r"
     ]
    }
   ],
   "source": [
    "# Generate user item matrix\n",
    "count = 0\n",
    "for user, tracks in user_dict.items():\n",
    "    track_ids = [track_id_dict[track] for track in tracks]\n",
    "    user_id = user_id_dict[user]\n",
    "    sys.stdout.write(\"User: \"+str(count)+\"\\r\")\n",
    "    sys.stdout.flush() \n",
    "    count += 1\n",
    "    #if len(track_ids) < 1500 :\n",
    "    for track_id in track_ids:\n",
    "        #print(track_id_dict[track_id])\n",
    "        row = array([user_id for i in track_ids])\n",
    "        col = array(track_ids)\n",
    "        data = array([1 for i in track_ids])\n",
    "        acc = csr_matrix( (data,(row,col)), shape=(users_size,tracks_size), dtype=int16 )\n",
    "        users_sparse += acc\n",
    "        \n",
    "        "
   ]
  },
  {
   "cell_type": "code",
   "execution_count": 17,
   "metadata": {
    "collapsed": false,
    "deletable": true,
    "editable": true
   },
   "outputs": [],
   "source": [
    "from sklearn.decomposition import TruncatedSVD\n",
    "svd = TruncatedSVD(n_components=150, algorithm='arpack')\n",
    "svd.fit(users_sparse)\n",
    "users_reduced = svd.transform(users_sparse)"
   ]
  },
  {
   "cell_type": "code",
   "execution_count": 18,
   "metadata": {
    "collapsed": false,
    "deletable": true,
    "editable": true
   },
   "outputs": [],
   "source": [
    "save_npz('cache/users_sparse.npz', users_sparse)\n",
    "np.save('cache/users_reduced.npy', users_reduced)\n",
    "\n",
    "with open('cache/users_svd.pickle', 'wb') as handle:\n",
    "    pickle.dump(svd, handle, protocol=pickle.HIGHEST_PROTOCOL)  "
   ]
  },
  {
   "cell_type": "markdown",
   "metadata": {
    "deletable": true,
    "editable": true
   },
   "source": [
    "# Test"
   ]
  },
  {
   "cell_type": "code",
   "execution_count": 19,
   "metadata": {
    "collapsed": false,
    "deletable": true,
    "editable": true
   },
   "outputs": [
    {
     "data": {
      "text/html": [
       "<div>\n",
       "<table border=\"1\" class=\"dataframe\">\n",
       "  <thead>\n",
       "    <tr style=\"text-align: right;\">\n",
       "      <th></th>\n",
       "      <th>user</th>\n",
       "      <th>track</th>\n",
       "    </tr>\n",
       "  </thead>\n",
       "  <tbody>\n",
       "    <tr>\n",
       "      <th>0</th>\n",
       "      <td>000c556aa021426138c47076d53dfbec</td>\n",
       "      <td>spotify:track:542sbDYHLJ7fVwwbSWG9BD</td>\n",
       "    </tr>\n",
       "    <tr>\n",
       "      <th>1</th>\n",
       "      <td>000c556aa021426138c47076d53dfbec</td>\n",
       "      <td>spotify:track:6fgjU6IfBOXHI3OKtndEeE</td>\n",
       "    </tr>\n",
       "    <tr>\n",
       "      <th>2</th>\n",
       "      <td>000c556aa021426138c47076d53dfbec</td>\n",
       "      <td>spotify:track:6t8NCBZWMOxj2Odg9gIBOF</td>\n",
       "    </tr>\n",
       "    <tr>\n",
       "      <th>3</th>\n",
       "      <td>000c556aa021426138c47076d53dfbec</td>\n",
       "      <td>spotify:track:6r9WmN9czMIbpRErhbOTKh</td>\n",
       "    </tr>\n",
       "    <tr>\n",
       "      <th>4</th>\n",
       "      <td>000c556aa021426138c47076d53dfbec</td>\n",
       "      <td>spotify:track:3cTblov6gyVDgvk5cTMFQA</td>\n",
       "    </tr>\n",
       "  </tbody>\n",
       "</table>\n",
       "</div>"
      ],
      "text/plain": [
       "                               user                                 track\n",
       "0  000c556aa021426138c47076d53dfbec  spotify:track:542sbDYHLJ7fVwwbSWG9BD\n",
       "1  000c556aa021426138c47076d53dfbec  spotify:track:6fgjU6IfBOXHI3OKtndEeE\n",
       "2  000c556aa021426138c47076d53dfbec  spotify:track:6t8NCBZWMOxj2Odg9gIBOF\n",
       "3  000c556aa021426138c47076d53dfbec  spotify:track:6r9WmN9czMIbpRErhbOTKh\n",
       "4  000c556aa021426138c47076d53dfbec  spotify:track:3cTblov6gyVDgvk5cTMFQA"
      ]
     },
     "execution_count": 19,
     "metadata": {},
     "output_type": "execute_result"
    }
   ],
   "source": [
    "import pandas as pd\n",
    "training = pd.read_csv(\"data/training_data.csv\")[['user', 'track']]\n",
    "test = pd.read_csv(\"data/test_data.csv\")[['user', 'track']]\n",
    "test.head()"
   ]
  },
  {
   "cell_type": "code",
   "execution_count": 20,
   "metadata": {
    "collapsed": false,
    "deletable": true,
    "editable": true
   },
   "outputs": [],
   "source": [
    "user_dict_train = {}\n",
    "groups = training.groupby('user')\n",
    "for i, group in groups:\n",
    "    user_id = group['user'].iloc[0]\n",
    "    track_ids = set(group['track'])\n",
    "    user_dict_train[user_id] = track_ids"
   ]
  },
  {
   "cell_type": "code",
   "execution_count": 21,
   "metadata": {
    "collapsed": false,
    "deletable": true,
    "editable": true
   },
   "outputs": [],
   "source": [
    "user_dict_test = {}\n",
    "groups = test.groupby('user')\n",
    "for i, group in groups:\n",
    "    user_id = group['user'].iloc[0]\n",
    "    track_ids = set(group['track'])\n",
    "    user_dict_test[user_id] = track_ids"
   ]
  },
  {
   "cell_type": "code",
   "execution_count": 32,
   "metadata": {
    "collapsed": false,
    "deletable": true,
    "editable": true
   },
   "outputs": [],
   "source": [
    "tracks_train = user_dict_train['000c556aa021426138c47076d53dfbec']"
   ]
  },
  {
   "cell_type": "code",
   "execution_count": 33,
   "metadata": {
    "collapsed": false,
    "deletable": true,
    "editable": true
   },
   "outputs": [],
   "source": [
    "tracks_test = user_dict_test['000c556aa021426138c47076d53dfbec']"
   ]
  },
  {
   "cell_type": "code",
   "execution_count": 34,
   "metadata": {
    "collapsed": false,
    "deletable": true,
    "editable": true
   },
   "outputs": [],
   "source": [
    "import recommender_cf_user_based as ubrec"
   ]
  },
  {
   "cell_type": "code",
   "execution_count": 35,
   "metadata": {
    "collapsed": false,
    "deletable": true,
    "editable": true
   },
   "outputs": [
    {
     "name": "stdout",
     "output_type": "stream",
     "text": [
      "[[  1.00000000e+00   8.72200545e-02   0.00000000e+00   9.89159034e-03\n",
      "    8.12233791e-03   1.73233848e-02   0.00000000e+00   2.59887943e-02\n",
      "    5.69751810e-03   2.69625479e-03   0.00000000e+00   1.66299561e-02\n",
      "    2.54097704e-03   0.00000000e+00   0.00000000e+00   1.45437646e-01\n",
      "   -1.22678798e-05   2.32942796e-03   0.00000000e+00   0.00000000e+00\n",
      "    5.99906578e-02   0.00000000e+00   0.00000000e+00   1.24835292e-02\n",
      "    0.00000000e+00  -4.66970923e-03   4.23740307e-03  -6.74575570e-04\n",
      "    2.86799548e-04   9.69562089e-04  -6.07953766e-04   4.68310974e-03\n",
      "    2.92236611e-03   5.96495562e-04   4.37577762e-02   3.68800075e-05\n",
      "    2.68889997e-02   1.25249787e-01   1.63518617e-02   2.57487095e-03\n",
      "   -2.02956139e-03  -6.28418335e-03   7.66865663e-03   8.22695333e-04\n",
      "    2.71903591e-02   5.30920324e-03   8.84600044e-03   0.00000000e+00\n",
      "    1.37392303e-02   1.26440450e-01  -1.77138899e-03   2.89507178e-02\n",
      "    7.74765903e-03   7.30009398e-02  -3.22013393e-03   0.00000000e+00\n",
      "    8.80654980e-04   3.71085345e-02  -4.22548070e-03   4.47902984e-03\n",
      "    4.91566930e-03   0.00000000e+00   2.05791899e-01  -5.51144129e-04\n",
      "    1.45093333e-06   0.00000000e+00  -9.96959613e-05   2.71970486e-02\n",
      "    1.02932202e-03   1.54753011e-03   3.67037233e-02   0.00000000e+00\n",
      "    1.15819911e-02   4.70003253e-02   0.00000000e+00   8.58086644e-02\n",
      "    0.00000000e+00   7.27588726e-02   0.00000000e+00   6.11345473e-03\n",
      "    1.54169369e-01   0.00000000e+00   0.00000000e+00  -1.09959631e-02\n",
      "    0.00000000e+00   5.95415488e-03   2.27549825e-03   1.60434833e-04\n",
      "    1.14651972e-02   2.34022722e-02  -9.90847230e-03   1.14327101e-03\n",
      "    9.00657604e-06   9.47844511e-02   1.13744015e-02   1.90734007e-01\n",
      "    6.88075193e-05  -1.02160150e-03   0.00000000e+00   4.09873186e-02\n",
      "    0.00000000e+00   3.27377602e-02   2.94640100e-02   7.04543151e-03\n",
      "    1.15351738e-02   8.60316697e-03   0.00000000e+00   2.06719494e-02\n",
      "    1.45557262e-01   5.66639033e-06   7.85489296e-02   8.04236691e-02\n",
      "    2.60212495e-01   1.54458016e-01   1.68454252e-01   1.10064392e-02\n",
      "    4.47055609e-05  -3.06883843e-03   4.95502716e-02  -7.22495647e-04\n",
      "    0.00000000e+00   1.02271957e-01   6.71450750e-02  -4.58800013e-04\n",
      "    2.23448455e-05   9.23197243e-02   0.00000000e+00   1.09806134e-01\n",
      "    3.94610211e-02   4.03816571e-02   0.00000000e+00   0.00000000e+00\n",
      "    8.49981698e-02  -3.38884671e-03   1.01302748e-04   0.00000000e+00\n",
      "    7.33620783e-02   5.70215210e-02   1.15731927e-02  -8.75356475e-04\n",
      "    2.30223911e-01   6.90023719e-02   0.00000000e+00  -2.57554372e-03\n",
      "    4.07021374e-02   0.00000000e+00   9.01416351e-02  -6.40625651e-03\n",
      "    3.86696849e-02   3.11433739e-03   0.00000000e+00   4.07690179e-02\n",
      "    0.00000000e+00   7.39501861e-02   9.91871419e-02   0.00000000e+00\n",
      "    8.57671920e-02  -8.37182232e-04   2.06972886e-03   8.01920094e-02\n",
      "    1.06008488e-02   8.54033555e-02   4.34426386e-02   0.00000000e+00\n",
      "    6.01115705e-02   2.48735912e-02  -2.83170560e-03   1.12092374e-01\n",
      "   -1.44414483e-03   0.00000000e+00   3.83397060e-02   3.74787532e-02\n",
      "    0.00000000e+00  -4.54760252e-03   3.74549009e-03   1.60083985e-02\n",
      "    0.00000000e+00   0.00000000e+00   0.00000000e+00  -7.68466740e-08\n",
      "    0.00000000e+00   1.26684876e-03   1.40750062e-01   7.37310803e-05\n",
      "    1.28590608e-01   0.00000000e+00   2.02931252e-02   1.11090464e-03\n",
      "    0.00000000e+00   3.17703628e-02   0.00000000e+00   0.00000000e+00\n",
      "    0.00000000e+00   1.33832402e-02   4.84142605e-03  -1.41665561e-02\n",
      "   -2.33105767e-03   0.00000000e+00   6.61573509e-02   1.33910359e-01\n",
      "   -5.54493503e-03   3.38581632e-02   5.31518312e-02   1.89994862e-02\n",
      "    0.00000000e+00   0.00000000e+00   3.89126197e-03   0.00000000e+00\n",
      "    9.46241028e-03   5.12463406e-02  -2.40320632e-05   9.59947114e-03\n",
      "    1.56892424e-02   1.13858657e-02  -1.28067902e-03   3.79186725e-03\n",
      "    8.43207176e-05   1.30394189e-01   1.07642330e-02   1.97005593e-03\n",
      "    6.78253137e-02   0.00000000e+00   0.00000000e+00   4.12867730e-01\n",
      "    0.00000000e+00   0.00000000e+00   0.00000000e+00   2.51369181e-02\n",
      "    0.00000000e+00   3.85138864e-02   8.93561380e-03   1.50167784e-02\n",
      "    1.15340248e-02   1.19542369e-02   0.00000000e+00   1.64510518e-02\n",
      "    6.95191406e-02   0.00000000e+00   8.65203416e-03   6.62194670e-02\n",
      "    6.32956706e-03   1.35398961e-02   0.00000000e+00   3.39965066e-03\n",
      "    8.64260415e-03   7.98607279e-05   5.12396008e-02   1.47420546e-02\n",
      "    0.00000000e+00   0.00000000e+00   9.65735413e-02   8.82539689e-03\n",
      "    5.48641129e-03   0.00000000e+00   1.01386008e-01   2.55429375e-01\n",
      "   -2.98503268e-03   1.98953328e-02   5.19707363e-03   5.67059076e-02\n",
      "   -7.08280148e-05   0.00000000e+00  -2.37017659e-04   2.93749244e-02\n",
      "    1.91454218e-02   8.53223564e-02   4.86585687e-03   0.00000000e+00\n",
      "    1.65827147e-01   0.00000000e+00   1.70402620e-03   2.03310078e-02\n",
      "    0.00000000e+00   7.90753637e-04   2.69930411e-02   6.13601884e-02\n",
      "    3.13810760e-01   0.00000000e+00   0.00000000e+00  -1.26630692e-03\n",
      "    1.24058239e-03   0.00000000e+00  -6.15189348e-04   4.81952993e-02\n",
      "    8.70086897e-03   1.84768658e-02   0.00000000e+00   5.74805593e-02\n",
      "    2.61958425e-02  -3.92130705e-06   4.27599213e-03   0.00000000e+00\n",
      "   -8.63271789e-04   3.19480741e-03   1.02694939e-03   1.23113666e-02\n",
      "    7.89633399e-03   1.44306317e-02   3.48317901e-02   5.12591382e-03\n",
      "    5.03735343e-04  -2.30208844e-06  -1.31269171e-04   8.10573345e-04\n",
      "    0.00000000e+00   1.77304089e-02   2.78558785e-03   0.00000000e+00\n",
      "    3.28282996e-06   4.00131608e-02   1.07984351e-01   0.00000000e+00\n",
      "    1.76161951e-03   5.93865965e-03   2.06195588e-01   3.09738909e-02\n",
      "    2.08016823e-01  -2.86121552e-03   0.00000000e+00   0.00000000e+00\n",
      "    3.42036920e-02   1.46708631e-01   0.00000000e+00   1.95564302e-02\n",
      "   -6.07396897e-04   2.85271194e-03   0.00000000e+00   5.18349016e-03\n",
      "    2.49550146e-02   4.00827542e-03  -3.21253320e-04   8.00784018e-03\n",
      "    1.06894526e-01   4.19387962e-03   1.39403617e-01  -6.58411432e-03\n",
      "    1.65631693e-01   0.00000000e+00   1.79563661e-03   0.00000000e+00\n",
      "    5.30571353e-02   1.05400830e-02  -1.04649050e-02   5.64755818e-02\n",
      "    5.94115839e-02  -8.36095473e-04   8.85149453e-04   2.31700942e-02\n",
      "   -2.15031084e-03   1.44555962e-01   7.25849428e-01  -8.76496376e-04\n",
      "    9.16061834e-03   3.54617475e-02   1.37025619e-02   0.00000000e+00\n",
      "   -3.72525079e-03   3.12607857e-02   2.72132977e-02   4.74021884e-02\n",
      "   -1.02888593e-02  -8.43239635e-04   1.14755663e-02   7.75893168e-03\n",
      "    6.87370783e-02   9.95327764e-04   5.71359358e-03  -2.46919307e-03\n",
      "    4.82799374e-03   1.89745455e-03   4.35627038e-02   5.26418148e-04\n",
      "    1.99575942e-03   1.93688478e-03   4.67119435e-02  -3.51204010e-04\n",
      "    7.37066487e-03   1.79161203e-03   1.85081688e-01   0.00000000e+00\n",
      "    3.29557924e-03   0.00000000e+00  -9.44660735e-03   9.14746151e-03\n",
      "    2.35520868e-01   1.86284221e-02   4.64719318e-04   6.92596776e-02\n",
      "    0.00000000e+00   0.00000000e+00   0.00000000e+00   2.14684830e-02\n",
      "    0.00000000e+00   1.42946712e-02   3.97377885e-01   2.39420880e-01\n",
      "   -2.38417639e-03   0.00000000e+00   1.49881073e-04  -4.88956102e-05\n",
      "    1.17075005e-02   1.79147505e-02   1.76643950e-02   2.41058218e-02\n",
      "    1.71674659e-02   1.11087843e-02   5.83132481e-02   0.00000000e+00\n",
      "   -6.68905169e-04   1.82548917e-02   1.58301629e-01  -6.54900913e-05\n",
      "    4.03749968e-02  -5.80981332e-03   0.00000000e+00  -4.81381325e-03\n",
      "   -3.37651866e-03   1.88612675e-01  -5.74394546e-04   1.86844901e-01\n",
      "    1.70426322e-02   0.00000000e+00   0.00000000e+00  -2.70307159e-03\n",
      "    1.03432193e-01   0.00000000e+00  -3.07099556e-03   8.06683962e-04\n",
      "    7.92981990e-02  -7.72050780e-04   0.00000000e+00   1.70088154e-06\n",
      "    7.25879369e-02   2.93691187e-02   1.20564984e-03   7.57834536e-02\n",
      "   -2.19509072e-03   0.00000000e+00  -3.98183324e-03   2.91314333e-03\n",
      "    4.81839295e-02  -9.19320401e-04   9.58940738e-04  -4.58995573e-06\n",
      "    2.00784798e-01   4.38384225e-02   0.00000000e+00   3.90724502e-02\n",
      "    1.83945466e-01   1.10893411e-01   2.45975788e-04   1.81447585e-01\n",
      "    1.02837935e-01  -6.95648698e-04   0.00000000e+00   4.90867638e-04\n",
      "    3.70728415e-03   1.65185471e-01   7.51023696e-02  -7.56843799e-04\n",
      "    0.00000000e+00   1.61288943e-04   0.00000000e+00   3.14447147e-02\n",
      "    3.10813412e-02   0.00000000e+00  -1.29344078e-03   1.95345566e-02\n",
      "    0.00000000e+00   4.50130691e-05   2.58820698e-02   0.00000000e+00\n",
      "    2.72458678e-02  -7.40765373e-05   0.00000000e+00   0.00000000e+00\n",
      "    0.00000000e+00   0.00000000e+00   1.60385460e-05   8.17116113e-02\n",
      "    1.08254226e-01   0.00000000e+00   0.00000000e+00   2.56358547e-02\n",
      "    0.00000000e+00   2.48663260e-01  -6.54597180e-04   4.46237634e-03\n",
      "   -2.03026353e-03   1.15673457e-03   1.78401199e-03   0.00000000e+00\n",
      "    2.62546492e-03  -3.06319470e-03   4.29162489e-02   6.92619529e-02\n",
      "   -8.88438239e-03   3.44622708e-02   3.17510086e-03   2.18288572e-02\n",
      "    2.99265840e-03   2.87606973e-02   0.00000000e+00   1.32582647e-03\n",
      "    2.58536877e-03  -5.82212994e-04   1.35702186e-01   0.00000000e+00\n",
      "    5.75157258e-04   1.55404409e-01   1.66576300e-01   3.21515517e-01\n",
      "    4.43953807e-02   0.00000000e+00   1.87488719e-03   5.39934929e-02\n",
      "    0.00000000e+00   0.00000000e+00   1.27294434e-03   0.00000000e+00\n",
      "   -1.44405378e-04   3.17829230e-03   4.33376959e-02  -1.65109418e-03\n",
      "    1.54674381e-02   3.36350744e-02   1.01054095e-01   4.07378612e-03\n",
      "   -3.05294948e-03   1.95584326e-02   4.46746129e-03  -1.57862558e-03\n",
      "    2.93595738e-03   1.22488419e-02  -2.82541195e-03   0.00000000e+00\n",
      "   -1.34509786e-03   1.30035959e-03  -2.18677722e-03   1.62077742e-02\n",
      "    2.39190051e-03   3.61323810e-04  -6.33765578e-03   0.00000000e+00\n",
      "    2.49532833e-01   1.08331207e-02  -8.80124536e-04  -3.12915926e-03\n",
      "   -1.72523068e-03   2.42565501e-02   1.64635430e-02   9.66998767e-02\n",
      "    0.00000000e+00  -4.86584216e-04  -3.57534249e-04   1.24053271e-02\n",
      "    0.00000000e+00   3.18339243e-02  -3.39477074e-03  -4.36386606e-04\n",
      "   -3.11524427e-03  -1.76255458e-03   1.82128884e-03   0.00000000e+00\n",
      "    6.53092780e-02   0.00000000e+00  -2.78795319e-03   0.00000000e+00\n",
      "    0.00000000e+00]]\n"
     ]
    }
   ],
   "source": [
    "tracks_result = ubrec.recommend(tracks_train, 500)\n",
    "#tracks_result"
   ]
  },
  {
   "cell_type": "code",
   "execution_count": 37,
   "metadata": {
    "collapsed": false,
    "deletable": true,
    "editable": true
   },
   "outputs": [
    {
     "name": "stdout",
     "output_type": "stream",
     "text": [
      "0.0\n",
      "0.0\n"
     ]
    }
   ],
   "source": [
    "def get_precision(result_query, result_given):\n",
    "    if len(result_query) == 0:\n",
    "        return 0\n",
    "    else:\n",
    "        return len(set(result_given).intersection(result_query))/len(result_query)\n",
    "def get_recall(result_query, result_given):\n",
    "    if len(result_given) == 0:\n",
    "        return 0\n",
    "    else:\n",
    "        return len(set(result_given).intersection(result_query))/len(result_given)\n",
    "\n",
    "\n",
    "precision = get_precision(tracks_result, tracks_test)\n",
    "recall = get_recall(tracks_result, tracks_test)\n",
    "    \n",
    "#precision = get_precision([1, 2], [1, 2, 3, 4])\n",
    "#recall = get_recall([1, 2], [1, 2, 3, 4])\n",
    "    \n",
    "print(precision)\n",
    "print(recall)"
   ]
  },
  {
   "cell_type": "code",
   "execution_count": null,
   "metadata": {
    "collapsed": true,
    "deletable": true,
    "editable": true
   },
   "outputs": [],
   "source": []
  }
 ],
 "metadata": {
  "kernelspec": {
   "display_name": "Python 3",
   "language": "python",
   "name": "python3"
  },
  "language_info": {
   "codemirror_mode": {
    "name": "ipython",
    "version": 3
   },
   "file_extension": ".py",
   "mimetype": "text/x-python",
   "name": "python",
   "nbconvert_exporter": "python",
   "pygments_lexer": "ipython3",
   "version": "3.6.0"
  },
  "varInspector": {
   "cols": {
    "lenName": 16,
    "lenType": 16,
    "lenVar": 40
   },
   "kernels_config": {
    "python": {
     "delete_cmd_postfix": "",
     "delete_cmd_prefix": "del ",
     "library": "var_list.py",
     "varRefreshCmd": "print(var_dic_list())"
    },
    "r": {
     "delete_cmd_postfix": ") ",
     "delete_cmd_prefix": "rm(",
     "library": "var_list.r",
     "varRefreshCmd": "cat(var_dic_list()) "
    }
   },
   "types_to_exclude": [
    "module",
    "function",
    "builtin_function_or_method",
    "instance",
    "_Feature"
   ],
   "window_display": false
  }
 },
 "nbformat": 4,
 "nbformat_minor": 0
}
