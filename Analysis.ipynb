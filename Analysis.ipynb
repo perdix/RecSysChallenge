{
 "cells": [
  {
   "cell_type": "code",
   "execution_count": 1,
   "metadata": {
    "collapsed": true
   },
   "outputs": [],
   "source": [
    "import pandas as pd\n",
    "import numpy as np\n",
    "import matplotlib.pyplot as plt"
   ]
  },
  {
   "cell_type": "code",
   "execution_count": 2,
   "metadata": {
    "collapsed": false
   },
   "outputs": [
    {
     "data": {
      "text/html": [
       "<div>\n",
       "<table border=\"1\" class=\"dataframe\">\n",
       "  <thead>\n",
       "    <tr style=\"text-align: right;\">\n",
       "      <th></th>\n",
       "      <th>user</th>\n",
       "      <th>track</th>\n",
       "      <th>tempo</th>\n",
       "      <th>energy</th>\n",
       "      <th>echo_key</th>\n",
       "      <th>mode</th>\n",
       "      <th>liveness</th>\n",
       "      <th>speechiness</th>\n",
       "      <th>acousticness</th>\n",
       "      <th>danceability</th>\n",
       "      <th>duration</th>\n",
       "      <th>loudness</th>\n",
       "      <th>valence</th>\n",
       "      <th>instrumentalness</th>\n",
       "    </tr>\n",
       "  </thead>\n",
       "  <tbody>\n",
       "    <tr>\n",
       "      <th>0</th>\n",
       "      <td>000c556aa021426138c47076d53dfbec</td>\n",
       "      <td>spotify:track:000UQuSa2QcsWFK0tGTBDM</td>\n",
       "      <td>97.522</td>\n",
       "      <td>0.734691</td>\n",
       "      <td>9</td>\n",
       "      <td>0</td>\n",
       "      <td>0.274507</td>\n",
       "      <td>0.062134</td>\n",
       "      <td>0.459002</td>\n",
       "      <td>0.704303</td>\n",
       "      <td>200.466</td>\n",
       "      <td>-6.841</td>\n",
       "      <td>0.527094</td>\n",
       "      <td>8.275760e-06</td>\n",
       "    </tr>\n",
       "    <tr>\n",
       "      <th>1</th>\n",
       "      <td>000c556aa021426138c47076d53dfbec</td>\n",
       "      <td>spotify:track:001faoWrA2TK6dw9vHp9p6</td>\n",
       "      <td>109.692</td>\n",
       "      <td>0.180660</td>\n",
       "      <td>7</td>\n",
       "      <td>1</td>\n",
       "      <td>0.097553</td>\n",
       "      <td>0.055450</td>\n",
       "      <td>0.976753</td>\n",
       "      <td>0.527443</td>\n",
       "      <td>157.112</td>\n",
       "      <td>-11.901</td>\n",
       "      <td>0.540447</td>\n",
       "      <td>2.258890e-04</td>\n",
       "    </tr>\n",
       "    <tr>\n",
       "      <th>2</th>\n",
       "      <td>000c556aa021426138c47076d53dfbec</td>\n",
       "      <td>spotify:track:010jenmHogRDArWKod52XR</td>\n",
       "      <td>169.134</td>\n",
       "      <td>0.800924</td>\n",
       "      <td>9</td>\n",
       "      <td>1</td>\n",
       "      <td>0.100567</td>\n",
       "      <td>0.101336</td>\n",
       "      <td>0.000380</td>\n",
       "      <td>0.465361</td>\n",
       "      <td>188.533</td>\n",
       "      <td>-5.566</td>\n",
       "      <td>0.705238</td>\n",
       "      <td>7.456680e-01</td>\n",
       "    </tr>\n",
       "    <tr>\n",
       "      <th>3</th>\n",
       "      <td>000c556aa021426138c47076d53dfbec</td>\n",
       "      <td>spotify:track:01gijlGB36OqjXJ0bUkE99</td>\n",
       "      <td>120.034</td>\n",
       "      <td>0.906196</td>\n",
       "      <td>9</td>\n",
       "      <td>1</td>\n",
       "      <td>0.214679</td>\n",
       "      <td>0.043548</td>\n",
       "      <td>0.149464</td>\n",
       "      <td>0.596936</td>\n",
       "      <td>298.533</td>\n",
       "      <td>-4.452</td>\n",
       "      <td>0.763008</td>\n",
       "      <td>5.838250e-09</td>\n",
       "    </tr>\n",
       "    <tr>\n",
       "      <th>4</th>\n",
       "      <td>000c556aa021426138c47076d53dfbec</td>\n",
       "      <td>spotify:track:01z7U4QxORx59DIfSwImo2</td>\n",
       "      <td>117.986</td>\n",
       "      <td>0.793076</td>\n",
       "      <td>6</td>\n",
       "      <td>0</td>\n",
       "      <td>0.188309</td>\n",
       "      <td>0.029328</td>\n",
       "      <td>0.000571</td>\n",
       "      <td>0.550484</td>\n",
       "      <td>166.173</td>\n",
       "      <td>-6.354</td>\n",
       "      <td>0.361237</td>\n",
       "      <td>7.021810e-01</td>\n",
       "    </tr>\n",
       "  </tbody>\n",
       "</table>\n",
       "</div>"
      ],
      "text/plain": [
       "                               user                                 track  \\\n",
       "0  000c556aa021426138c47076d53dfbec  spotify:track:000UQuSa2QcsWFK0tGTBDM   \n",
       "1  000c556aa021426138c47076d53dfbec  spotify:track:001faoWrA2TK6dw9vHp9p6   \n",
       "2  000c556aa021426138c47076d53dfbec  spotify:track:010jenmHogRDArWKod52XR   \n",
       "3  000c556aa021426138c47076d53dfbec  spotify:track:01gijlGB36OqjXJ0bUkE99   \n",
       "4  000c556aa021426138c47076d53dfbec  spotify:track:01z7U4QxORx59DIfSwImo2   \n",
       "\n",
       "     tempo    energy  echo_key  mode  liveness  speechiness  acousticness  \\\n",
       "0   97.522  0.734691         9     0  0.274507     0.062134      0.459002   \n",
       "1  109.692  0.180660         7     1  0.097553     0.055450      0.976753   \n",
       "2  169.134  0.800924         9     1  0.100567     0.101336      0.000380   \n",
       "3  120.034  0.906196         9     1  0.214679     0.043548      0.149464   \n",
       "4  117.986  0.793076         6     0  0.188309     0.029328      0.000571   \n",
       "\n",
       "   danceability  duration  loudness   valence  instrumentalness  \n",
       "0      0.704303   200.466    -6.841  0.527094      8.275760e-06  \n",
       "1      0.527443   157.112   -11.901  0.540447      2.258890e-04  \n",
       "2      0.465361   188.533    -5.566  0.705238      7.456680e-01  \n",
       "3      0.596936   298.533    -4.452  0.763008      5.838250e-09  \n",
       "4      0.550484   166.173    -6.354  0.361237      7.021810e-01  "
      ]
     },
     "execution_count": 2,
     "metadata": {},
     "output_type": "execute_result"
    }
   ],
   "source": [
    "tracks = pd.read_csv(\"ir2017.csv\")\n",
    "tracks.head()"
   ]
  },
  {
   "cell_type": "code",
   "execution_count": 3,
   "metadata": {
    "collapsed": false
   },
   "outputs": [
    {
     "name": "stdout",
     "output_type": "stream",
     "text": [
      "<class 'pandas.core.frame.DataFrame'>\n",
      "RangeIndex: 879298 entries, 0 to 879297\n",
      "Data columns (total 14 columns):\n",
      "user                879298 non-null object\n",
      "track               879298 non-null object\n",
      "tempo               879298 non-null float64\n",
      "energy              879298 non-null float64\n",
      "echo_key            879298 non-null int64\n",
      "mode                879298 non-null int64\n",
      "liveness            879298 non-null float64\n",
      "speechiness         879298 non-null float64\n",
      "acousticness        879298 non-null float64\n",
      "danceability        879298 non-null float64\n",
      "duration            879298 non-null float64\n",
      "loudness            879298 non-null float64\n",
      "valence             879298 non-null float64\n",
      "instrumentalness    879298 non-null float64\n",
      "dtypes: float64(10), int64(2), object(2)\n",
      "memory usage: 93.9+ MB\n"
     ]
    }
   ],
   "source": [
    "tracks.info()"
   ]
  },
  {
   "cell_type": "code",
   "execution_count": 4,
   "metadata": {
    "collapsed": false
   },
   "outputs": [
    {
     "data": {
      "text/html": [
       "<div>\n",
       "<table border=\"1\" class=\"dataframe\">\n",
       "  <thead>\n",
       "    <tr style=\"text-align: right;\">\n",
       "      <th></th>\n",
       "      <th>tempo</th>\n",
       "      <th>energy</th>\n",
       "      <th>echo_key</th>\n",
       "      <th>mode</th>\n",
       "      <th>liveness</th>\n",
       "      <th>speechiness</th>\n",
       "      <th>acousticness</th>\n",
       "      <th>danceability</th>\n",
       "      <th>duration</th>\n",
       "      <th>loudness</th>\n",
       "      <th>valence</th>\n",
       "      <th>instrumentalness</th>\n",
       "    </tr>\n",
       "  </thead>\n",
       "  <tbody>\n",
       "    <tr>\n",
       "      <th>count</th>\n",
       "      <td>879298.000000</td>\n",
       "      <td>879298.000000</td>\n",
       "      <td>879298.000000</td>\n",
       "      <td>879298.000000</td>\n",
       "      <td>879298.000000</td>\n",
       "      <td>879298.000000</td>\n",
       "      <td>8.792980e+05</td>\n",
       "      <td>879298.000000</td>\n",
       "      <td>879298.000000</td>\n",
       "      <td>879298.000000</td>\n",
       "      <td>879298.000000</td>\n",
       "      <td>8.792980e+05</td>\n",
       "    </tr>\n",
       "    <tr>\n",
       "      <th>mean</th>\n",
       "      <td>121.309874</td>\n",
       "      <td>0.618184</td>\n",
       "      <td>5.253699</td>\n",
       "      <td>0.663476</td>\n",
       "      <td>0.215647</td>\n",
       "      <td>0.075777</td>\n",
       "      <td>3.000766e-01</td>\n",
       "      <td>0.537233</td>\n",
       "      <td>250.758886</td>\n",
       "      <td>-9.174845</td>\n",
       "      <td>0.481483</td>\n",
       "      <td>1.884267e-01</td>\n",
       "    </tr>\n",
       "    <tr>\n",
       "      <th>std</th>\n",
       "      <td>28.630090</td>\n",
       "      <td>0.255861</td>\n",
       "      <td>3.569598</td>\n",
       "      <td>0.472521</td>\n",
       "      <td>0.198876</td>\n",
       "      <td>0.090974</td>\n",
       "      <td>3.357446e-01</td>\n",
       "      <td>0.175581</td>\n",
       "      <td>128.879642</td>\n",
       "      <td>5.105106</td>\n",
       "      <td>0.259408</td>\n",
       "      <td>3.197617e-01</td>\n",
       "    </tr>\n",
       "    <tr>\n",
       "      <th>min</th>\n",
       "      <td>30.168000</td>\n",
       "      <td>0.000020</td>\n",
       "      <td>0.000000</td>\n",
       "      <td>0.000000</td>\n",
       "      <td>0.005403</td>\n",
       "      <td>0.021297</td>\n",
       "      <td>9.034620e-07</td>\n",
       "      <td>0.031497</td>\n",
       "      <td>15.052300</td>\n",
       "      <td>-54.117000</td>\n",
       "      <td>0.000010</td>\n",
       "      <td>1.444210e-16</td>\n",
       "    </tr>\n",
       "    <tr>\n",
       "      <th>25%</th>\n",
       "      <td>99.879250</td>\n",
       "      <td>0.439610</td>\n",
       "      <td>2.000000</td>\n",
       "      <td>0.000000</td>\n",
       "      <td>0.096285</td>\n",
       "      <td>0.034318</td>\n",
       "      <td>1.383333e-02</td>\n",
       "      <td>0.417338</td>\n",
       "      <td>192.667000</td>\n",
       "      <td>-11.260000</td>\n",
       "      <td>0.268592</td>\n",
       "      <td>4.327960e-06</td>\n",
       "    </tr>\n",
       "    <tr>\n",
       "      <th>50%</th>\n",
       "      <td>120.219500</td>\n",
       "      <td>0.664855</td>\n",
       "      <td>5.000000</td>\n",
       "      <td>1.000000</td>\n",
       "      <td>0.130147</td>\n",
       "      <td>0.044569</td>\n",
       "      <td>1.354465e-01</td>\n",
       "      <td>0.546094</td>\n",
       "      <td>232.893000</td>\n",
       "      <td>-7.908000</td>\n",
       "      <td>0.475878</td>\n",
       "      <td>1.410150e-03</td>\n",
       "    </tr>\n",
       "    <tr>\n",
       "      <th>75%</th>\n",
       "      <td>138.179000</td>\n",
       "      <td>0.832315</td>\n",
       "      <td>9.000000</td>\n",
       "      <td>1.000000</td>\n",
       "      <td>0.271690</td>\n",
       "      <td>0.072126</td>\n",
       "      <td>5.664970e-01</td>\n",
       "      <td>0.665116</td>\n",
       "      <td>283.626000</td>\n",
       "      <td>-5.681000</td>\n",
       "      <td>0.691118</td>\n",
       "      <td>2.295080e-01</td>\n",
       "    </tr>\n",
       "    <tr>\n",
       "      <th>max</th>\n",
       "      <td>249.991000</td>\n",
       "      <td>0.999981</td>\n",
       "      <td>11.000000</td>\n",
       "      <td>1.000000</td>\n",
       "      <td>1.000000</td>\n",
       "      <td>0.968029</td>\n",
       "      <td>9.957960e-01</td>\n",
       "      <td>0.995121</td>\n",
       "      <td>5407.990000</td>\n",
       "      <td>4.708000</td>\n",
       "      <td>0.999990</td>\n",
       "      <td>9.991080e-01</td>\n",
       "    </tr>\n",
       "  </tbody>\n",
       "</table>\n",
       "</div>"
      ],
      "text/plain": [
       "               tempo         energy       echo_key           mode  \\\n",
       "count  879298.000000  879298.000000  879298.000000  879298.000000   \n",
       "mean      121.309874       0.618184       5.253699       0.663476   \n",
       "std        28.630090       0.255861       3.569598       0.472521   \n",
       "min        30.168000       0.000020       0.000000       0.000000   \n",
       "25%        99.879250       0.439610       2.000000       0.000000   \n",
       "50%       120.219500       0.664855       5.000000       1.000000   \n",
       "75%       138.179000       0.832315       9.000000       1.000000   \n",
       "max       249.991000       0.999981      11.000000       1.000000   \n",
       "\n",
       "            liveness    speechiness  acousticness   danceability  \\\n",
       "count  879298.000000  879298.000000  8.792980e+05  879298.000000   \n",
       "mean        0.215647       0.075777  3.000766e-01       0.537233   \n",
       "std         0.198876       0.090974  3.357446e-01       0.175581   \n",
       "min         0.005403       0.021297  9.034620e-07       0.031497   \n",
       "25%         0.096285       0.034318  1.383333e-02       0.417338   \n",
       "50%         0.130147       0.044569  1.354465e-01       0.546094   \n",
       "75%         0.271690       0.072126  5.664970e-01       0.665116   \n",
       "max         1.000000       0.968029  9.957960e-01       0.995121   \n",
       "\n",
       "            duration       loudness        valence  instrumentalness  \n",
       "count  879298.000000  879298.000000  879298.000000      8.792980e+05  \n",
       "mean      250.758886      -9.174845       0.481483      1.884267e-01  \n",
       "std       128.879642       5.105106       0.259408      3.197617e-01  \n",
       "min        15.052300     -54.117000       0.000010      1.444210e-16  \n",
       "25%       192.667000     -11.260000       0.268592      4.327960e-06  \n",
       "50%       232.893000      -7.908000       0.475878      1.410150e-03  \n",
       "75%       283.626000      -5.681000       0.691118      2.295080e-01  \n",
       "max      5407.990000       4.708000       0.999990      9.991080e-01  "
      ]
     },
     "execution_count": 4,
     "metadata": {},
     "output_type": "execute_result"
    }
   ],
   "source": [
    "tracks.describe()"
   ]
  },
  {
   "cell_type": "code",
   "execution_count": 13,
   "metadata": {
    "collapsed": false
   },
   "outputs": [
    {
     "data": {
      "image/png": "[encoded data removed]",
      "text/plain": [
       "<matplotlib.figure.Figure at 0x1e09e7d1358>"
      ]
     },
     "metadata": {},
     "output_type": "display_data"
    }
   ],
   "source": [
    "tracks.hist(bins=50, figsize=(20,15))\n",
    "plt.show()"
   ]
  },
  {
   "cell_type": "code",
   "execution_count": 6,
   "metadata": {
    "collapsed": false
   },
   "outputs": [
    {
     "data": {
      "text/plain": [
       "569"
      ]
     },
     "execution_count": 6,
     "metadata": {},
     "output_type": "execute_result"
    }
   ],
   "source": [
    "# of users\n",
    "len(tracks['user'].unique())"
   ]
  },
  {
   "cell_type": "code",
   "execution_count": 7,
   "metadata": {
    "collapsed": false
   },
   "outputs": [
    {
     "data": {
      "text/plain": [
       "566410"
      ]
     },
     "execution_count": 7,
     "metadata": {},
     "output_type": "execute_result"
    }
   ],
   "source": [
    "# of tracks\n",
    "len(tracks['track'].unique())"
   ]
  },
  {
   "cell_type": "code",
   "execution_count": 8,
   "metadata": {
    "collapsed": false
   },
   "outputs": [
    {
     "data": {
      "text/plain": [
       "user                    000c556aa021426138c47076d53dfbec\n",
       "track               spotify:track:000UQuSa2QcsWFK0tGTBDM\n",
       "tempo                                             97.522\n",
       "energy                                          0.734691\n",
       "echo_key                                               9\n",
       "mode                                                   0\n",
       "liveness                                        0.274507\n",
       "speechiness                                    0.0621342\n",
       "acousticness                                    0.459002\n",
       "danceability                                    0.704303\n",
       "duration                                         200.466\n",
       "loudness                                          -6.841\n",
       "valence                                         0.527094\n",
       "instrumentalness                             8.27576e-06\n",
       "Name: 0, dtype: object"
      ]
     },
     "execution_count": 8,
     "metadata": {},
     "output_type": "execute_result"
    }
   ],
   "source": [
    "# First entry of data\n",
    "tracks.iloc[0]"
   ]
  },
  {
   "cell_type": "code",
   "execution_count": null,
   "metadata": {
    "collapsed": true
   },
   "outputs": [],
   "source": []
  }
 ],
 "metadata": {
  "kernelspec": {
   "display_name": "Python 3",
   "language": "python",
   "name": "python3"
  },
  "language_info": {
   "codemirror_mode": {
    "name": "ipython",
    "version": 3
   },
   "file_extension": ".py",
   "mimetype": "text/x-python",
   "name": "python",
   "nbconvert_exporter": "python",
   "pygments_lexer": "ipython3",
   "version": "3.6.0"
  }
 },
 "nbformat": 4,
 "nbformat_minor": 2
}
